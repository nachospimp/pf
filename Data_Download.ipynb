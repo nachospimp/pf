{
  "nbformat": 4,
  "nbformat_minor": 0,
  "metadata": {
    "colab": {
      "provenance": [],
      "authorship_tag": "ABX9TyPvj9XZs8o5P9M1TOca7fda",
      "include_colab_link": true
    },
    "kernelspec": {
      "name": "python3",
      "display_name": "Python 3"
    },
    "language_info": {
      "name": "python"
    }
  },
  "cells": [
    {
      "cell_type": "markdown",
      "metadata": {
        "id": "view-in-github",
        "colab_type": "text"
      },
      "source": [
        "<a href=\"https://colab.research.google.com/github/nachospimp/pf/blob/main/Data_Download.ipynb\" target=\"_parent\"><img src=\"https://colab.research.google.com/assets/colab-badge.svg\" alt=\"Open In Colab\"/></a>"
      ]
    },
    {
      "cell_type": "code",
      "execution_count": null,
      "metadata": {
        "id": "53KJUFZMlS_8"
      },
      "outputs": [],
      "source": [
        "#!/usr/bin/env python3\n",
        "# -*- coding: utf-8 -*-\n",
        "\"\"\"\n",
        "Created on Wed Jul 31 18:50:00 2024\n",
        "\n",
        "@author: giovannamontalvo\n",
        "\"\"\"\n",
        "import os\n",
        "import pandas as pd\n",
        "import yfinance as yf\n",
        "from datetime import datetime\n",
        "\n",
        "# Configuración de la carpeta de salida\n",
        "output_folder = '/Users/giovannamontalvo/2024/Data1/'\n",
        "\n",
        "# Crear la carpeta de salida si no existe\n",
        "if not os.path.exists(output_folder):\n",
        "    os.makedirs(output_folder)\n",
        "\n",
        "# Fecha de inicio para la descarga de datos\n",
        "start_date = '2022-01-01'\n",
        "\n",
        "# Fecha actual\n",
        "today = datetime.now().strftime('%Y-%m-%d')\n",
        "\n",
        "# Solicitar al usuario una lista de tickers para descargar\n",
        "tickers = input(\"Ingrese los tickers separados por comas: \").strip().upper().split(',')\n",
        "\n",
        "for ticker in tickers:\n",
        "    ticker = ticker.strip()  # Eliminar espacios adicionales\n",
        "    file_name = f\"{ticker}.csv\"\n",
        "    output_file_path = os.path.join(output_folder, file_name)\n",
        "\n",
        "    # Descargar datos actuales desde Yahoo Finance\n",
        "    df_new = yf.download(ticker, start=start_date, end=today)\n",
        "\n",
        "    # Verificar si se obtuvieron datos\n",
        "    if not df_new.empty:\n",
        "        # Resetear el índice\n",
        "        df_new.reset_index(inplace=True)\n",
        "\n",
        "        # Convertir la columna 'Date' a formato datetime\n",
        "        df_new['Date'] = pd.to_datetime(df_new['Date'])\n",
        "\n",
        "        # Si el archivo ya existe, combinar datos antiguos y nuevos\n",
        "        if os.path.exists(output_file_path):\n",
        "            df_existing = pd.read_csv(output_file_path)\n",
        "\n",
        "            # Convertir la columna 'Date' del archivo existente a formato datetime\n",
        "            df_existing['Date'] = pd.to_datetime(df_existing['Date'])\n",
        "\n",
        "            # Combinar datos antiguos con los nuevos, eliminando duplicados\n",
        "            df_combined = pd.concat([df_existing, df_new]).drop_duplicates(subset='Date').sort_values('Date')\n",
        "            df_combined.to_csv(output_file_path, index=False)\n",
        "            print(f'Archivo existente para {ticker} actualizado en {output_file_path}')\n",
        "        else:\n",
        "            # Guardar los datos descargados si el archivo no existe\n",
        "            df_new.to_csv(output_file_path, index=False)\n",
        "            print(f'Datos para {ticker} descargados y guardados en {output_file_path}')\n",
        "    else:\n",
        "        print(f'No se encontraron datos para {ticker}')\n",
        "\n",
        "print('Descarga completada.')"
      ]
    }
  ]
}