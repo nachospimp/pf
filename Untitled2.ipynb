{
  "nbformat": 4,
  "nbformat_minor": 0,
  "metadata": {
    "colab": {
      "provenance": [],
      "authorship_tag": "ABX9TyMvZag3NLli5B7nmvZyA+0U"
    },
    "kernelspec": {
      "name": "python3",
      "display_name": "Python 3"
    },
    "language_info": {
      "name": "python"
    }
  },
  "cells": [
    {
      "cell_type": "code",
      "execution_count": null,
      "metadata": {
        "id": "KitD8BUNKfr4",
        "colab": {
          "base_uri": "https://localhost:8080/"
        },
        "outputId": "c960754b-3213-4dc2-968c-c0334e9e279e"
      },
      "outputs": [
        {
          "output_type": "stream",
          "name": "stdout",
          "text": [
            "26488.072373826155\n",
            "4657.208654032907\n",
            "26456.13\n",
            "[26381.98280207 26530.27117204]\n",
            "1000000\n"
          ]
        }
      ],
      "source": [
        "import numpy as np\n",
        "import math\n",
        "from scipy.stats import norm\n",
        "import random\n",
        "\n",
        "price = 69616.4\n",
        "time = 0\n",
        "maturity = 1\n",
        "strike = 50000\n",
        "interest_rate = 0.0453\n",
        "volatility = 0.55565\n",
        "\n",
        "d1 = 1 / (volatility * np.sqrt(maturity)) * (np.log(price/strike) + (interest_rate + 0.5 * (volatility**2)) * maturity)\n",
        "d2 = d1 - (volatility * math.sqrt(maturity))\n",
        "\n",
        "C = price * norm.cdf(d1) - strike * math.exp(-interest_rate * maturity) * norm.cdf(d2)\n",
        "P = strike * math.exp(-interest_rate * (maturity)) * norm.cdf(-d2) - price * norm.cdf(-d1)\n",
        "\n",
        "\n",
        "monte_carlo_size = 10**6\n",
        "n = np.random.standard_normal(monte_carlo_size)\n",
        "price_underlying = price * np.exp((interest_rate - 0.5 *(volatility**2)) * maturity + volatility * np.sqrt(maturity) * n)\n",
        "\n",
        "monte_carlo_simulation = np.exp(-(interest_rate * maturity)) * np.array([max(price - strike, 0.0) for price in price_underlying])\n",
        "monte_carlo_price = np.mean(monte_carlo_simulation)\n",
        "monte_carlo_confidence_interval = monte_carlo_price + np.array([-1, +1]) * 1.96 * np.std(monte_carlo_simulation) / np.sqrt(monte_carlo_size)\n",
        "\n",
        "print(C)\n",
        "print(P)\n",
        "print(round(monte_carlo_price,2))\n",
        "print(monte_carlo_confidence_interval)\n",
        "print(monte_carlo_size)"
      ]
    },
    {
      "cell_type": "code",
      "source": [],
      "metadata": {
        "id": "gONcNPfxcv3R"
      },
      "execution_count": null,
      "outputs": []
    }
  ]
}