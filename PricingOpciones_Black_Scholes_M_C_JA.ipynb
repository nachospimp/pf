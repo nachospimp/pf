{
  "nbformat": 4,
  "nbformat_minor": 0,
  "metadata": {
    "colab": {
      "provenance": [],
      "collapsed_sections": [
        "UtJSH8qi4VZB"
      ]
    },
    "kernelspec": {
      "name": "python3",
      "display_name": "Python 3"
    },
    "language_info": {
      "name": "python"
    }
  },
  "cells": [
    {
      "cell_type": "code",
      "source": [
        "# @ Nachospimp\n",
        "import math\n",
        "from scipy.stats import norm\n",
        "import random\n",
        "import numpy as np"
      ],
      "metadata": {
        "id": "6Ncg917f1ErD"
      },
      "execution_count": 345,
      "outputs": []
    },
    {
      "cell_type": "markdown",
      "source": [
        "#**Pricing de Opciones**"
      ],
      "metadata": {
        "id": "I7NN7zW1NNaH"
      }
    },
    {
      "cell_type": "markdown",
      "source": [
        "# Definir variables Black-Scholes, número de simulaciones Monte-Carlo\n"
      ],
      "metadata": {
        "id": "E568aSuY2QDB"
      }
    },
    {
      "cell_type": "code",
      "source": [
        "# Definir variables para Black-Scholes y Monte-Carlo.\n",
        "# Inputs Interactivos.\n",
        "\n",
        "S = 69616.40 # Underlying Price\n",
        "\n",
        "K = 50000 # Strike Price\n",
        "\n",
        "t = 0  # ej. meses 1/12, 3/12, 6/12, 9/12 \\ días 180/365, 30/365, 1/365\n",
        "\n",
        "T = 1 # Time to exp ej. meses: 1/12, 3/12, 6/12, 9/12 \\ días 180/365, 30/365, 1/365\n",
        "\n",
        "r = 0.0453 # Interest rate\n",
        "\n",
        "vol = 0.55565 # Volatilidad\n",
        "\n",
        "monte_carlo_size = 10**6 # Numero de simulaciones Monte Carlo"
      ],
      "metadata": {
        "id": "Sc6KwXk_4_2a"
      },
      "execution_count": 336,
      "outputs": []
    },
    {
      "cell_type": "markdown",
      "source": [
        "# **Código.** ^Correr con los inputs deseados^"
      ],
      "metadata": {
        "id": "UtJSH8qi4VZB"
      }
    },
    {
      "cell_type": "code",
      "source": [
        "# Calcular D1 y D2\n",
        "d1 = 1 / (vol * np.sqrt(T - t)) * (np.log(S / K) + (r + 0.5 * (vol**2)) * (T - t))  # (math.log(S/K) + (r + 0.5 * vol**2) * T ) / (vol * math.sqrt(T))\n",
        "d2 = d1 - (vol * math.sqrt(T - t))\n",
        "\n",
        "# Calcular Call Option Price\n",
        "C = S * norm.cdf(d1) - K * math.exp(-r * (T - t)) *norm.cdf(d2)\n",
        "# Calcular Put Option Price\n",
        "P = K * math.exp(-r * (T - t)) * norm.cdf(-d2) - S * norm.cdf(-d1)\n",
        "\n",
        "#Monte-Carlo parámetros\n",
        "N = np.random.standard_normal(10**6)\n",
        "price_underlying = S * np.exp((r - 0.5 * (vol**2)) * T + vol * np.sqrt(T) * N)\n",
        "monte_carlo_simulations = np.exp(-(r * T)) * np.array([max(S - K, 0.0) for S in price_underlying])\n",
        "monte_carlo_price = np.mean(monte_carlo_simulations)\n",
        "monte_carlo_confidence_interval = monte_carlo_price + np.array([-1, +1]) * 1.96 * np.std(monte_carlo_simulations) / np.sqrt(monte_carlo_size)\n"
      ],
      "metadata": {
        "id": "9-5n10mo4Oj4"
      },
      "execution_count": 337,
      "outputs": []
    },
    {
      "cell_type": "markdown",
      "source": [
        "#**Resultados:**"
      ],
      "metadata": {
        "id": "606yP9YH8Jw2"
      }
    },
    {
      "cell_type": "code",
      "source": [
        "print('D1 =', round(d1,4))\n",
        "print('D2 =', round(d2,3))\n",
        "print('El valor de la opción call es $', round (C, 2))\n",
        "print('El valor de la opción put es $', round (P, 2))\n",
        "print('El valor de la opción Monte-Carlo es $', round (monte_carlo_price,2))\n",
        "print('El intervalo de confianza Monte-Carlo es entre', (monte_carlo_confidence_interval))\n",
        "print('El número de simulaciones Monte-Carlo es ', (monte_carlo_size))\n",
        "print('En esta simulación ambos se encuentran dentro del intervalo de confianza de Monte-Carlo.')"
      ],
      "metadata": {
        "colab": {
          "base_uri": "https://localhost:8080/"
        },
        "id": "fyWUn4xv3Iqk",
        "outputId": "5855fe51-088c-4359-87d1-cf3d06641b90"
      },
      "execution_count": 338,
      "outputs": [
        {
          "output_type": "stream",
          "name": "stdout",
          "text": [
            "D1 = 0.955\n",
            "D2 = 0.399\n",
            "El valor de la opción call es $ 26488.07\n",
            "El valor de la opción put es $ 4657.21\n",
            "El valor de la opción Monte-Carlo es $ 26470.06\n",
            "El intervalo de confianza Monte-Carlo es entre [26395.64965534 26544.46974763]\n",
            "El número de simulaciones Monte-Carlo es  1000000\n",
            "En esta simulación ambos se encuentran dentro del intervalo de confianza de Monte-Carlo.\n"
          ]
        }
      ]
    },
    {
      "cell_type": "markdown",
      "source": [
        "# Black-Scholes Price"
      ],
      "metadata": {
        "id": "sgHaR2BsOKk7"
      }
    },
    {
      "cell_type": "code",
      "source": [
        "print('El valor de la opción call es $', round (C, 2))\n",
        "print('El valor de la opción put es $', round (P, 2))"
      ],
      "metadata": {
        "colab": {
          "base_uri": "https://localhost:8080/"
        },
        "id": "sOJkC84q8Me8",
        "outputId": "5d6150e6-ea5e-40b8-e924-2bec88f7e231"
      },
      "execution_count": 347,
      "outputs": [
        {
          "output_type": "stream",
          "name": "stdout",
          "text": [
            "El valor de la opción call es $ 26488.07\n",
            "El valor de la opción put es $ 4657.21\n"
          ]
        }
      ]
    },
    {
      "cell_type": "markdown",
      "source": [
        "# Monte Carlo Price"
      ],
      "metadata": {
        "id": "FxdPFm7MACxf"
      }
    },
    {
      "cell_type": "code",
      "source": [
        "print('El valor de la opción Monte-Carlo es $', round (monte_carlo_price,2))"
      ],
      "metadata": {
        "colab": {
          "base_uri": "https://localhost:8080/"
        },
        "id": "QYSOHlYKDjWo",
        "outputId": "c149f3b2-834f-4329-b31d-5873db2492e8"
      },
      "execution_count": 340,
      "outputs": [
        {
          "output_type": "stream",
          "name": "stdout",
          "text": [
            "El valor de la opción Monte-Carlo es $ 26470.06\n"
          ]
        }
      ]
    },
    {
      "cell_type": "markdown",
      "source": [
        "# Intervalo de Confianza Monte-Carlo"
      ],
      "metadata": {
        "id": "lLqX_hv6Ec3O"
      }
    },
    {
      "cell_type": "code",
      "source": [
        "print('El intervalo de confianza Monte-Carlo es entre', (monte_carlo_confidence_interval))"
      ],
      "metadata": {
        "colab": {
          "base_uri": "https://localhost:8080/"
        },
        "id": "A7mfCNL2FDFX",
        "outputId": "319d727c-08ae-42a8-ab86-9274c229839c"
      },
      "execution_count": 341,
      "outputs": [
        {
          "output_type": "stream",
          "name": "stdout",
          "text": [
            "El intervalo de confianza Monte-Carlo es entre [26395.64965534 26544.46974763]\n"
          ]
        }
      ]
    },
    {
      "cell_type": "markdown",
      "source": [
        "# Número de simulaciones"
      ],
      "metadata": {
        "id": "PgEAHgKvOtXI"
      }
    },
    {
      "cell_type": "code",
      "source": [
        "print('El número de simulaciones Monte-Carlo es ', (monte_carlo_size))"
      ],
      "metadata": {
        "colab": {
          "base_uri": "https://localhost:8080/"
        },
        "id": "uNh94DXPOaST",
        "outputId": "37a2b4c4-c82f-4626-c4bc-9f9d98bac119"
      },
      "execution_count": 342,
      "outputs": [
        {
          "output_type": "stream",
          "name": "stdout",
          "text": [
            "El número de simulaciones Monte-Carlo es  1000000\n"
          ]
        }
      ]
    },
    {
      "cell_type": "markdown",
      "source": [
        "#**Respuestas para BTC-USD**"
      ],
      "metadata": {
        "id": "M7OBzHeCdFz5"
      }
    },
    {
      "cell_type": "code",
      "source": [
        "print('D1 =', round(d1,4))\n",
        "print('D2 =', round(d2,3))\n",
        "print('El valor de la opción call es $', round (C, 2))\n",
        "print('El valor de la opción put es $', round (P, 2))\n",
        "print('El valor de la opción Monte-Carlo es $', round (monte_carlo_price,2))\n",
        "print('El intervalo de confianza Monte-Carlo es entre', (monte_carlo_confidence_interval))\n",
        "print('El número de simulaciones Monte-Carlo es ', (monte_carlo_size))\n",
        "print('En esta simulación ambos se encuentran dentro del intervalo de confianza de Monte-Carlo.')"
      ],
      "metadata": {
        "colab": {
          "base_uri": "https://localhost:8080/"
        },
        "id": "SyxPDvyGb0rk",
        "outputId": "2a8e738d-14d4-4146-bcbc-114416ae1185"
      },
      "execution_count": 343,
      "outputs": [
        {
          "output_type": "stream",
          "name": "stdout",
          "text": [
            "D1 = 0.955\n",
            "D2 = 0.399\n",
            "El valor de la opción call es $ 26488.07\n",
            "El valor de la opción put es $ 4657.21\n",
            "El valor de la opción Monte-Carlo es $ 26470.06\n",
            "El intervalo de confianza Monte-Carlo es entre [26395.64965534 26544.46974763]\n",
            "El número de simulaciones Monte-Carlo es  1000000\n",
            "En esta simulación ambos se encuentran dentro del intervalo de confianza de Monte-Carlo.\n"
          ]
        }
      ]
    }
  ]
}