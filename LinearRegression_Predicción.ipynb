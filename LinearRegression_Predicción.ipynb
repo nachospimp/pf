{
  "nbformat": 4,
  "nbformat_minor": 0,
  "metadata": {
    "colab": {
      "provenance": [],
      "authorship_tag": "ABX9TyMk4tMwCvNdh4SlTQl7IjQz",
      "include_colab_link": true
    },
    "kernelspec": {
      "name": "python3",
      "display_name": "Python 3"
    },
    "language_info": {
      "name": "python"
    }
  },
  "cells": [
    {
      "cell_type": "markdown",
      "metadata": {
        "id": "view-in-github",
        "colab_type": "text"
      },
      "source": [
        "<a href=\"https://colab.research.google.com/github/nachospimp/pf/blob/main/LinearRegression_Predicci%C3%B3n.ipynb\" target=\"_parent\"><img src=\"https://colab.research.google.com/assets/colab-badge.svg\" alt=\"Open In Colab\"/></a>"
      ]
    },
    {
      "cell_type": "code",
      "execution_count": 121,
      "metadata": {
        "id": "oAFMqqP_GNvY"
      },
      "outputs": [],
      "source": [
        "import yfinance as yf\n",
        "import numpy as np"
      ]
    },
    {
      "cell_type": "code",
      "source": [
        "df = yf.download('BTC-USD', start='2020-01-01')"
      ],
      "metadata": {
        "colab": {
          "base_uri": "https://localhost:8080/"
        },
        "id": "dmxC6VAOG1hw",
        "outputId": "41da61d4-d6c0-4b97-c8af-fec1dc2e4a23"
      },
      "execution_count": 122,
      "outputs": [
        {
          "output_type": "stream",
          "name": "stderr",
          "text": [
            "\r[*********************100%%**********************]  1 of 1 completed\n"
          ]
        }
      ]
    },
    {
      "cell_type": "code",
      "source": [
        "df['Returns'] = np.log(df.Close.pct_change() + 1)"
      ],
      "metadata": {
        "id": "ajlxr4PfHYIx"
      },
      "execution_count": 123,
      "outputs": []
    },
    {
      "cell_type": "code",
      "source": [
        "def lagit(df, lags):\n",
        "  names = []\n",
        "  for i in range(1, lags+1):\n",
        "    df['Lag_'+str(i)] = df['Returns'].shift(i)\n",
        "    names.append('Lag_'+str(i))\n",
        "  return names"
      ],
      "metadata": {
        "id": "CY75Zw7PH4fx"
      },
      "execution_count": 124,
      "outputs": []
    },
    {
      "cell_type": "code",
      "source": [
        "lagnames = lagit(df,2)"
      ],
      "metadata": {
        "id": "FBzVCqMlJIo2"
      },
      "execution_count": 125,
      "outputs": []
    },
    {
      "cell_type": "code",
      "source": [
        "df.dropna(inplace=True)"
      ],
      "metadata": {
        "id": "OsjkrpjgLKD1"
      },
      "execution_count": 126,
      "outputs": []
    },
    {
      "cell_type": "code",
      "source": [
        "from sklearn.linear_model import LinearRegression"
      ],
      "metadata": {
        "id": "5J2p-evJLyBm"
      },
      "execution_count": 127,
      "outputs": []
    },
    {
      "cell_type": "code",
      "source": [
        "model = LinearRegression()"
      ],
      "metadata": {
        "id": "Q2h7ayHQL-hc"
      },
      "execution_count": 128,
      "outputs": []
    },
    {
      "cell_type": "code",
      "source": [
        "model.fit(df[lagnames], df['Returns'])"
      ],
      "metadata": {
        "colab": {
          "base_uri": "https://localhost:8080/",
          "height": 75
        },
        "id": "CTsgRHy6MA4K",
        "outputId": "b3423e0e-2c5f-4a33-c155-82bafdae3390"
      },
      "execution_count": 129,
      "outputs": [
        {
          "output_type": "execute_result",
          "data": {
            "text/plain": [
              "LinearRegression()"
            ],
            "text/html": [
              "<style>#sk-container-id-6 {color: black;background-color: white;}#sk-container-id-6 pre{padding: 0;}#sk-container-id-6 div.sk-toggleable {background-color: white;}#sk-container-id-6 label.sk-toggleable__label {cursor: pointer;display: block;width: 100%;margin-bottom: 0;padding: 0.3em;box-sizing: border-box;text-align: center;}#sk-container-id-6 label.sk-toggleable__label-arrow:before {content: \"▸\";float: left;margin-right: 0.25em;color: #696969;}#sk-container-id-6 label.sk-toggleable__label-arrow:hover:before {color: black;}#sk-container-id-6 div.sk-estimator:hover label.sk-toggleable__label-arrow:before {color: black;}#sk-container-id-6 div.sk-toggleable__content {max-height: 0;max-width: 0;overflow: hidden;text-align: left;background-color: #f0f8ff;}#sk-container-id-6 div.sk-toggleable__content pre {margin: 0.2em;color: black;border-radius: 0.25em;background-color: #f0f8ff;}#sk-container-id-6 input.sk-toggleable__control:checked~div.sk-toggleable__content {max-height: 200px;max-width: 100%;overflow: auto;}#sk-container-id-6 input.sk-toggleable__control:checked~label.sk-toggleable__label-arrow:before {content: \"▾\";}#sk-container-id-6 div.sk-estimator input.sk-toggleable__control:checked~label.sk-toggleable__label {background-color: #d4ebff;}#sk-container-id-6 div.sk-label input.sk-toggleable__control:checked~label.sk-toggleable__label {background-color: #d4ebff;}#sk-container-id-6 input.sk-hidden--visually {border: 0;clip: rect(1px 1px 1px 1px);clip: rect(1px, 1px, 1px, 1px);height: 1px;margin: -1px;overflow: hidden;padding: 0;position: absolute;width: 1px;}#sk-container-id-6 div.sk-estimator {font-family: monospace;background-color: #f0f8ff;border: 1px dotted black;border-radius: 0.25em;box-sizing: border-box;margin-bottom: 0.5em;}#sk-container-id-6 div.sk-estimator:hover {background-color: #d4ebff;}#sk-container-id-6 div.sk-parallel-item::after {content: \"\";width: 100%;border-bottom: 1px solid gray;flex-grow: 1;}#sk-container-id-6 div.sk-label:hover label.sk-toggleable__label {background-color: #d4ebff;}#sk-container-id-6 div.sk-serial::before {content: \"\";position: absolute;border-left: 1px solid gray;box-sizing: border-box;top: 0;bottom: 0;left: 50%;z-index: 0;}#sk-container-id-6 div.sk-serial {display: flex;flex-direction: column;align-items: center;background-color: white;padding-right: 0.2em;padding-left: 0.2em;position: relative;}#sk-container-id-6 div.sk-item {position: relative;z-index: 1;}#sk-container-id-6 div.sk-parallel {display: flex;align-items: stretch;justify-content: center;background-color: white;position: relative;}#sk-container-id-6 div.sk-item::before, #sk-container-id-6 div.sk-parallel-item::before {content: \"\";position: absolute;border-left: 1px solid gray;box-sizing: border-box;top: 0;bottom: 0;left: 50%;z-index: -1;}#sk-container-id-6 div.sk-parallel-item {display: flex;flex-direction: column;z-index: 1;position: relative;background-color: white;}#sk-container-id-6 div.sk-parallel-item:first-child::after {align-self: flex-end;width: 50%;}#sk-container-id-6 div.sk-parallel-item:last-child::after {align-self: flex-start;width: 50%;}#sk-container-id-6 div.sk-parallel-item:only-child::after {width: 0;}#sk-container-id-6 div.sk-dashed-wrapped {border: 1px dashed gray;margin: 0 0.4em 0.5em 0.4em;box-sizing: border-box;padding-bottom: 0.4em;background-color: white;}#sk-container-id-6 div.sk-label label {font-family: monospace;font-weight: bold;display: inline-block;line-height: 1.2em;}#sk-container-id-6 div.sk-label-container {text-align: center;}#sk-container-id-6 div.sk-container {/* jupyter's `normalize.less` sets `[hidden] { display: none; }` but bootstrap.min.css set `[hidden] { display: none !important; }` so we also need the `!important` here to be able to override the default hidden behavior on the sphinx rendered scikit-learn.org. See: https://github.com/scikit-learn/scikit-learn/issues/21755 */display: inline-block !important;position: relative;}#sk-container-id-6 div.sk-text-repr-fallback {display: none;}</style><div id=\"sk-container-id-6\" class=\"sk-top-container\"><div class=\"sk-text-repr-fallback\"><pre>LinearRegression()</pre><b>In a Jupyter environment, please rerun this cell to show the HTML representation or trust the notebook. <br />On GitHub, the HTML representation is unable to render, please try loading this page with nbviewer.org.</b></div><div class=\"sk-container\" hidden><div class=\"sk-item\"><div class=\"sk-estimator sk-toggleable\"><input class=\"sk-toggleable__control sk-hidden--visually\" id=\"sk-estimator-id-6\" type=\"checkbox\" checked><label for=\"sk-estimator-id-6\" class=\"sk-toggleable__label sk-toggleable__label-arrow\">LinearRegression</label><div class=\"sk-toggleable__content\"><pre>LinearRegression()</pre></div></div></div></div></div>"
            ]
          },
          "metadata": {},
          "execution_count": 129
        }
      ]
    },
    {
      "cell_type": "code",
      "source": [
        "df['prediction_LR'] = model.predict(df[lagnames])"
      ],
      "metadata": {
        "id": "7aT31PzjMc7X"
      },
      "execution_count": 130,
      "outputs": []
    },
    {
      "cell_type": "code",
      "source": [
        "df['direction_LR'] = [1 if i > 0 else -1 for i in df.prediction_LR]"
      ],
      "metadata": {
        "id": "YQTe6cNSSHF7"
      },
      "execution_count": 131,
      "outputs": []
    },
    {
      "cell_type": "code",
      "source": [
        "df['strat_LR'] = df['direction_LR'] * df['Returns']"
      ],
      "metadata": {
        "id": "6JSpJhEKS7Np"
      },
      "execution_count": 132,
      "outputs": []
    },
    {
      "cell_type": "code",
      "source": [
        "np.exp(df[['Returns','strat_LR']].sum())"
      ],
      "metadata": {
        "colab": {
          "base_uri": "https://localhost:8080/"
        },
        "id": "aP6OEQbbTM7V",
        "outputId": "7025693c-be8d-4975-f2df-df8544385c70"
      },
      "execution_count": 133,
      "outputs": [
        {
          "output_type": "execute_result",
          "data": {
            "text/plain": [
              "Returns     8.779551\n",
              "strat_LR    4.317129\n",
              "dtype: float64"
            ]
          },
          "metadata": {},
          "execution_count": 133
        }
      ]
    },
    {
      "cell_type": "code",
      "source": [
        "np.exp(df[['Returns','strat_LR']].cumsum()).plot()"
      ],
      "metadata": {
        "colab": {
          "base_uri": "https://localhost:8080/",
          "height": 467
        },
        "id": "Dx4jouX3Tl0C",
        "outputId": "a42411ca-41f8-43a1-a74d-1320f6990f26"
      },
      "execution_count": 134,
      "outputs": [
        {
          "output_type": "execute_result",
          "data": {
            "text/plain": [
              "<Axes: xlabel='Date'>"
            ]
          },
          "metadata": {},
          "execution_count": 134
        },
        {
          "output_type": "display_data",
          "data": {
            "text/plain": [
              "<Figure size 640x480 with 1 Axes>"
            ],
            "image/png": "[encoded data removed]"
          },
          "metadata": {}
        }
      ]
    },
    {
      "cell_type": "code",
      "source": [
        "from sklearn.model_selection import train_test_split"
      ],
      "metadata": {
        "id": "dsS_UtiKWAul"
      },
      "execution_count": 135,
      "outputs": []
    },
    {
      "cell_type": "code",
      "source": [
        "train, test = train_test_split(df, shuffle=False,\n",
        "                               test_size=0.3, random_state=0)"
      ],
      "metadata": {
        "id": "CWfgYIKoWKtM"
      },
      "execution_count": 136,
      "outputs": []
    },
    {
      "cell_type": "code",
      "source": [
        "train = train.copy()"
      ],
      "metadata": {
        "id": "5Aq5mJniWddO"
      },
      "execution_count": 137,
      "outputs": []
    },
    {
      "cell_type": "code",
      "source": [
        "test = test.copy()"
      ],
      "metadata": {
        "id": "CbAv7QvPWioq"
      },
      "execution_count": 138,
      "outputs": []
    },
    {
      "cell_type": "code",
      "source": [
        "model = LinearRegression()"
      ],
      "metadata": {
        "id": "KQdVJxkDWq7l"
      },
      "execution_count": 139,
      "outputs": []
    },
    {
      "cell_type": "code",
      "source": [
        "test"
      ],
      "metadata": {
        "colab": {
          "base_uri": "https://localhost:8080/",
          "height": 649
        },
        "id": "-HppOb_rWyCt",
        "outputId": "df14690d-da88-481b-fd62-50296c0c3043"
      },
      "execution_count": 140,
      "outputs": [
        {
          "output_type": "execute_result",
          "data": {
            "text/plain": [
              "                    Open          High           Low         Close  \\\n",
              "Date                                                                 \n",
              "2023-02-16  24307.349609  25134.117188  23602.523438  23623.474609   \n",
              "2023-02-17  23621.283203  24924.041016  23460.755859  24565.601562   \n",
              "2023-02-18  24565.296875  24798.835938  24468.373047  24641.277344   \n",
              "2023-02-19  24640.027344  25093.054688  24327.642578  24327.642578   \n",
              "2023-02-20  24336.623047  25020.458984  23927.910156  24829.148438   \n",
              "...                  ...           ...           ...           ...   \n",
              "2024-06-14  66747.570312  67294.648438  65056.894531  66011.093750   \n",
              "2024-06-15  66006.742188  66402.187500  65871.773438  66191.000000   \n",
              "2024-06-16  66189.359375  66894.843750  66018.250000  66639.046875   \n",
              "2024-06-17  66636.515625  67188.320312  65094.964844  66490.296875   \n",
              "2024-06-18  66490.976562  66491.226562  64347.125000  64484.789062   \n",
              "\n",
              "               Adj Close       Volume   Returns     Lag_1     Lag_2  \\\n",
              "Date                                                                  \n",
              "2023-02-16  23623.474609  39316664596 -0.028558  0.089770  0.018747   \n",
              "2023-02-17  24565.601562  41358451255  0.039106 -0.028558  0.089770   \n",
              "2023-02-18  24641.277344  19625427158  0.003076  0.039106 -0.028558   \n",
              "2023-02-19  24327.642578  25555105670 -0.012810  0.003076  0.039106   \n",
              "2023-02-20  24829.148438  28987376573  0.020405 -0.012810  0.003076   \n",
              "...                  ...          ...       ...       ...       ...   \n",
              "2024-06-14  66011.093750  27403884779 -0.011227 -0.021998  0.013412   \n",
              "2024-06-15  66191.000000  14121265576  0.002722 -0.011227 -0.021998   \n",
              "2024-06-16  66639.046875  13281140541  0.006746  0.002722 -0.011227   \n",
              "2024-06-17  66490.296875  30006354476 -0.002235  0.006746  0.002722   \n",
              "2024-06-18  64484.789062  39277748224 -0.030627 -0.002235  0.006746   \n",
              "\n",
              "            prediction_LR  direction_LR  strat_LR  \n",
              "Date                                               \n",
              "2023-02-16      -0.003066            -1  0.028558  \n",
              "2023-02-17       0.006999             1  0.039106  \n",
              "2023-02-18      -0.002197            -1 -0.003076  \n",
              "2023-02-19       0.002906             1 -0.012810  \n",
              "2023-02-20       0.002240             1  0.020405  \n",
              "...                   ...           ...       ...  \n",
              "2024-06-14       0.003235             1 -0.011227  \n",
              "2024-06-15       0.001038             1  0.002722  \n",
              "2024-06-16       0.000699             1  0.006746  \n",
              "2024-06-17       0.001081             1 -0.002235  \n",
              "2024-06-18       0.001784             1 -0.030627  \n",
              "\n",
              "[489 rows x 12 columns]"
            ],
            "text/html": [
              "\n",
              "  <div id=\"df-9575c41c-844e-40a9-a7f2-2057e49c6f34\" class=\"colab-df-container\">\n",
              "    <div>\n",
              "<style scoped>\n",
              "    .dataframe tbody tr th:only-of-type {\n",
              "        vertical-align: middle;\n",
              "    }\n",
              "\n",
              "    .dataframe tbody tr th {\n",
              "        vertical-align: top;\n",
              "    }\n",
              "\n",
              "    .dataframe thead th {\n",
              "        text-align: right;\n",
              "    }\n",
              "</style>\n",
              "<table border=\"1\" class=\"dataframe\">\n",
              "  <thead>\n",
              "    <tr style=\"text-align: right;\">\n",
              "      <th></th>\n",
              "      <th>Open</th>\n",
              "      <th>High</th>\n",
              "      <th>Low</th>\n",
              "      <th>Close</th>\n",
              "      <th>Adj Close</th>\n",
              "      <th>Volume</th>\n",
              "      <th>Returns</th>\n",
              "      <th>Lag_1</th>\n",
              "      <th>Lag_2</th>\n",
              "      <th>prediction_LR</th>\n",
              "      <th>direction_LR</th>\n",
              "      <th>strat_LR</th>\n",
              "    </tr>\n",
              "    <tr>\n",
              "      <th>Date</th>\n",
              "      <th></th>\n",
              "      <th></th>\n",
              "      <th></th>\n",
              "      <th></th>\n",
              "      <th></th>\n",
              "      <th></th>\n",
              "      <th></th>\n",
              "      <th></th>\n",
              "      <th></th>\n",
              "      <th></th>\n",
              "      <th></th>\n",
              "      <th></th>\n",
              "    </tr>\n",
              "  </thead>\n",
              "  <tbody>\n",
              "    <tr>\n",
              "      <th>2023-02-16</th>\n",
              "      <td>24307.349609</td>\n",
              "      <td>25134.117188</td>\n",
              "      <td>23602.523438</td>\n",
              "      <td>23623.474609</td>\n",
              "      <td>23623.474609</td>\n",
              "      <td>39316664596</td>\n",
              "      <td>-0.028558</td>\n",
              "      <td>0.089770</td>\n",
              "      <td>0.018747</td>\n",
              "      <td>-0.003066</td>\n",
              "      <td>-1</td>\n",
              "      <td>0.028558</td>\n",
              "    </tr>\n",
              "    <tr>\n",
              "      <th>2023-02-17</th>\n",
              "      <td>23621.283203</td>\n",
              "      <td>24924.041016</td>\n",
              "      <td>23460.755859</td>\n",
              "      <td>24565.601562</td>\n",
              "      <td>24565.601562</td>\n",
              "      <td>41358451255</td>\n",
              "      <td>0.039106</td>\n",
              "      <td>-0.028558</td>\n",
              "      <td>0.089770</td>\n",
              "      <td>0.006999</td>\n",
              "      <td>1</td>\n",
              "      <td>0.039106</td>\n",
              "    </tr>\n",
              "    <tr>\n",
              "      <th>2023-02-18</th>\n",
              "      <td>24565.296875</td>\n",
              "      <td>24798.835938</td>\n",
              "      <td>24468.373047</td>\n",
              "      <td>24641.277344</td>\n",
              "      <td>24641.277344</td>\n",
              "      <td>19625427158</td>\n",
              "      <td>0.003076</td>\n",
              "      <td>0.039106</td>\n",
              "      <td>-0.028558</td>\n",
              "      <td>-0.002197</td>\n",
              "      <td>-1</td>\n",
              "      <td>-0.003076</td>\n",
              "    </tr>\n",
              "    <tr>\n",
              "      <th>2023-02-19</th>\n",
              "      <td>24640.027344</td>\n",
              "      <td>25093.054688</td>\n",
              "      <td>24327.642578</td>\n",
              "      <td>24327.642578</td>\n",
              "      <td>24327.642578</td>\n",
              "      <td>25555105670</td>\n",
              "      <td>-0.012810</td>\n",
              "      <td>0.003076</td>\n",
              "      <td>0.039106</td>\n",
              "      <td>0.002906</td>\n",
              "      <td>1</td>\n",
              "      <td>-0.012810</td>\n",
              "    </tr>\n",
              "    <tr>\n",
              "      <th>2023-02-20</th>\n",
              "      <td>24336.623047</td>\n",
              "      <td>25020.458984</td>\n",
              "      <td>23927.910156</td>\n",
              "      <td>24829.148438</td>\n",
              "      <td>24829.148438</td>\n",
              "      <td>28987376573</td>\n",
              "      <td>0.020405</td>\n",
              "      <td>-0.012810</td>\n",
              "      <td>0.003076</td>\n",
              "      <td>0.002240</td>\n",
              "      <td>1</td>\n",
              "      <td>0.020405</td>\n",
              "    </tr>\n",
              "    <tr>\n",
              "      <th>...</th>\n",
              "      <td>...</td>\n",
              "      <td>...</td>\n",
              "      <td>...</td>\n",
              "      <td>...</td>\n",
              "      <td>...</td>\n",
              "      <td>...</td>\n",
              "      <td>...</td>\n",
              "      <td>...</td>\n",
              "      <td>...</td>\n",
              "      <td>...</td>\n",
              "      <td>...</td>\n",
              "      <td>...</td>\n",
              "    </tr>\n",
              "    <tr>\n",
              "      <th>2024-06-14</th>\n",
              "      <td>66747.570312</td>\n",
              "      <td>67294.648438</td>\n",
              "      <td>65056.894531</td>\n",
              "      <td>66011.093750</td>\n",
              "      <td>66011.093750</td>\n",
              "      <td>27403884779</td>\n",
              "      <td>-0.011227</td>\n",
              "      <td>-0.021998</td>\n",
              "      <td>0.013412</td>\n",
              "      <td>0.003235</td>\n",
              "      <td>1</td>\n",
              "      <td>-0.011227</td>\n",
              "    </tr>\n",
              "    <tr>\n",
              "      <th>2024-06-15</th>\n",
              "      <td>66006.742188</td>\n",
              "      <td>66402.187500</td>\n",
              "      <td>65871.773438</td>\n",
              "      <td>66191.000000</td>\n",
              "      <td>66191.000000</td>\n",
              "      <td>14121265576</td>\n",
              "      <td>0.002722</td>\n",
              "      <td>-0.011227</td>\n",
              "      <td>-0.021998</td>\n",
              "      <td>0.001038</td>\n",
              "      <td>1</td>\n",
              "      <td>0.002722</td>\n",
              "    </tr>\n",
              "    <tr>\n",
              "      <th>2024-06-16</th>\n",
              "      <td>66189.359375</td>\n",
              "      <td>66894.843750</td>\n",
              "      <td>66018.250000</td>\n",
              "      <td>66639.046875</td>\n",
              "      <td>66639.046875</td>\n",
              "      <td>13281140541</td>\n",
              "      <td>0.006746</td>\n",
              "      <td>0.002722</td>\n",
              "      <td>-0.011227</td>\n",
              "      <td>0.000699</td>\n",
              "      <td>1</td>\n",
              "      <td>0.006746</td>\n",
              "    </tr>\n",
              "    <tr>\n",
              "      <th>2024-06-17</th>\n",
              "      <td>66636.515625</td>\n",
              "      <td>67188.320312</td>\n",
              "      <td>65094.964844</td>\n",
              "      <td>66490.296875</td>\n",
              "      <td>66490.296875</td>\n",
              "      <td>30006354476</td>\n",
              "      <td>-0.002235</td>\n",
              "      <td>0.006746</td>\n",
              "      <td>0.002722</td>\n",
              "      <td>0.001081</td>\n",
              "      <td>1</td>\n",
              "      <td>-0.002235</td>\n",
              "    </tr>\n",
              "    <tr>\n",
              "      <th>2024-06-18</th>\n",
              "      <td>66490.976562</td>\n",
              "      <td>66491.226562</td>\n",
              "      <td>64347.125000</td>\n",
              "      <td>64484.789062</td>\n",
              "      <td>64484.789062</td>\n",
              "      <td>39277748224</td>\n",
              "      <td>-0.030627</td>\n",
              "      <td>-0.002235</td>\n",
              "      <td>0.006746</td>\n",
              "      <td>0.001784</td>\n",
              "      <td>1</td>\n",
              "      <td>-0.030627</td>\n",
              "    </tr>\n",
              "  </tbody>\n",
              "</table>\n",
              "<p>489 rows × 12 columns</p>\n",
              "</div>\n",
              "    <div class=\"colab-df-buttons\">\n",
              "\n",
              "  <div class=\"colab-df-container\">\n",
              "    <button class=\"colab-df-convert\" onclick=\"convertToInteractive('df-9575c41c-844e-40a9-a7f2-2057e49c6f34')\"\n",
              "            title=\"Convert this dataframe to an interactive table.\"\n",
              "            style=\"display:none;\">\n",
              "\n",
              "  <svg xmlns=\"http://www.w3.org/2000/svg\" height=\"24px\" viewBox=\"0 -960 960 960\">\n",
              "    <path d=\"M120-120v-720h720v720H120Zm60-500h600v-160H180v160Zm220 220h160v-160H400v160Zm0 220h160v-160H400v160ZM180-400h160v-160H180v160Zm440 0h160v-160H620v160ZM180-180h160v-160H180v160Zm440 0h160v-160H620v160Z\"/>\n",
              "  </svg>\n",
              "    </button>\n",
              "\n",
              "  <style>\n",
              "    .colab-df-container {\n",
              "      display:flex;\n",
              "      gap: 12px;\n",
              "    }\n",
              "\n",
              "    .colab-df-convert {\n",
              "      background-color: #E8F0FE;\n",
              "      border: none;\n",
              "      border-radius: 50%;\n",
              "      cursor: pointer;\n",
              "      display: none;\n",
              "      fill: #1967D2;\n",
              "      height: 32px;\n",
              "      padding: 0 0 0 0;\n",
              "      width: 32px;\n",
              "    }\n",
              "\n",
              "    .colab-df-convert:hover {\n",
              "      background-color: #E2EBFA;\n",
              "      box-shadow: 0px 1px 2px rgba(60, 64, 67, 0.3), 0px 1px 3px 1px rgba(60, 64, 67, 0.15);\n",
              "      fill: #174EA6;\n",
              "    }\n",
              "\n",
              "    .colab-df-buttons div {\n",
              "      margin-bottom: 4px;\n",
              "    }\n",
              "\n",
              "    [theme=dark] .colab-df-convert {\n",
              "      background-color: #3B4455;\n",
              "      fill: #D2E3FC;\n",
              "    }\n",
              "\n",
              "    [theme=dark] .colab-df-convert:hover {\n",
              "      background-color: #434B5C;\n",
              "      box-shadow: 0px 1px 3px 1px rgba(0, 0, 0, 0.15);\n",
              "      filter: drop-shadow(0px 1px 2px rgba(0, 0, 0, 0.3));\n",
              "      fill: #FFFFFF;\n",
              "    }\n",
              "  </style>\n",
              "\n",
              "    <script>\n",
              "      const buttonEl =\n",
              "        document.querySelector('#df-9575c41c-844e-40a9-a7f2-2057e49c6f34 button.colab-df-convert');\n",
              "      buttonEl.style.display =\n",
              "        google.colab.kernel.accessAllowed ? 'block' : 'none';\n",
              "\n",
              "      async function convertToInteractive(key) {\n",
              "        const element = document.querySelector('#df-9575c41c-844e-40a9-a7f2-2057e49c6f34');\n",
              "        const dataTable =\n",
              "          await google.colab.kernel.invokeFunction('convertToInteractive',\n",
              "                                                    [key], {});\n",
              "        if (!dataTable) return;\n",
              "\n",
              "        const docLinkHtml = 'Like what you see? Visit the ' +\n",
              "          '<a target=\"_blank\" href=https://colab.research.google.com/notebooks/data_table.ipynb>data table notebook</a>'\n",
              "          + ' to learn more about interactive tables.';\n",
              "        element.innerHTML = '';\n",
              "        dataTable['output_type'] = 'display_data';\n",
              "        await google.colab.output.renderOutput(dataTable, element);\n",
              "        const docLink = document.createElement('div');\n",
              "        docLink.innerHTML = docLinkHtml;\n",
              "        element.appendChild(docLink);\n",
              "      }\n",
              "    </script>\n",
              "  </div>\n",
              "\n",
              "\n",
              "<div id=\"df-7c205a71-c8ae-4d74-8bd3-0fc5d69d018b\">\n",
              "  <button class=\"colab-df-quickchart\" onclick=\"quickchart('df-7c205a71-c8ae-4d74-8bd3-0fc5d69d018b')\"\n",
              "            title=\"Suggest charts\"\n",
              "            style=\"display:none;\">\n",
              "\n",
              "<svg xmlns=\"http://www.w3.org/2000/svg\" height=\"24px\"viewBox=\"0 0 24 24\"\n",
              "     width=\"24px\">\n",
              "    <g>\n",
              "        <path d=\"M19 3H5c-1.1 0-2 .9-2 2v14c0 1.1.9 2 2 2h14c1.1 0 2-.9 2-2V5c0-1.1-.9-2-2-2zM9 17H7v-7h2v7zm4 0h-2V7h2v10zm4 0h-2v-4h2v4z\"/>\n",
              "    </g>\n",
              "</svg>\n",
              "  </button>\n",
              "\n",
              "<style>\n",
              "  .colab-df-quickchart {\n",
              "      --bg-color: #E8F0FE;\n",
              "      --fill-color: #1967D2;\n",
              "      --hover-bg-color: #E2EBFA;\n",
              "      --hover-fill-color: #174EA6;\n",
              "      --disabled-fill-color: #AAA;\n",
              "      --disabled-bg-color: #DDD;\n",
              "  }\n",
              "\n",
              "  [theme=dark] .colab-df-quickchart {\n",
              "      --bg-color: #3B4455;\n",
              "      --fill-color: #D2E3FC;\n",
              "      --hover-bg-color: #434B5C;\n",
              "      --hover-fill-color: #FFFFFF;\n",
              "      --disabled-bg-color: #3B4455;\n",
              "      --disabled-fill-color: #666;\n",
              "  }\n",
              "\n",
              "  .colab-df-quickchart {\n",
              "    background-color: var(--bg-color);\n",
              "    border: none;\n",
              "    border-radius: 50%;\n",
              "    cursor: pointer;\n",
              "    display: none;\n",
              "    fill: var(--fill-color);\n",
              "    height: 32px;\n",
              "    padding: 0;\n",
              "    width: 32px;\n",
              "  }\n",
              "\n",
              "  .colab-df-quickchart:hover {\n",
              "    background-color: var(--hover-bg-color);\n",
              "    box-shadow: 0 1px 2px rgba(60, 64, 67, 0.3), 0 1px 3px 1px rgba(60, 64, 67, 0.15);\n",
              "    fill: var(--button-hover-fill-color);\n",
              "  }\n",
              "\n",
              "  .colab-df-quickchart-complete:disabled,\n",
              "  .colab-df-quickchart-complete:disabled:hover {\n",
              "    background-color: var(--disabled-bg-color);\n",
              "    fill: var(--disabled-fill-color);\n",
              "    box-shadow: none;\n",
              "  }\n",
              "\n",
              "  .colab-df-spinner {\n",
              "    border: 2px solid var(--fill-color);\n",
              "    border-color: transparent;\n",
              "    border-bottom-color: var(--fill-color);\n",
              "    animation:\n",
              "      spin 1s steps(1) infinite;\n",
              "  }\n",
              "\n",
              "  @keyframes spin {\n",
              "    0% {\n",
              "      border-color: transparent;\n",
              "      border-bottom-color: var(--fill-color);\n",
              "      border-left-color: var(--fill-color);\n",
              "    }\n",
              "    20% {\n",
              "      border-color: transparent;\n",
              "      border-left-color: var(--fill-color);\n",
              "      border-top-color: var(--fill-color);\n",
              "    }\n",
              "    30% {\n",
              "      border-color: transparent;\n",
              "      border-left-color: var(--fill-color);\n",
              "      border-top-color: var(--fill-color);\n",
              "      border-right-color: var(--fill-color);\n",
              "    }\n",
              "    40% {\n",
              "      border-color: transparent;\n",
              "      border-right-color: var(--fill-color);\n",
              "      border-top-color: var(--fill-color);\n",
              "    }\n",
              "    60% {\n",
              "      border-color: transparent;\n",
              "      border-right-color: var(--fill-color);\n",
              "    }\n",
              "    80% {\n",
              "      border-color: transparent;\n",
              "      border-right-color: var(--fill-color);\n",
              "      border-bottom-color: var(--fill-color);\n",
              "    }\n",
              "    90% {\n",
              "      border-color: transparent;\n",
              "      border-bottom-color: var(--fill-color);\n",
              "    }\n",
              "  }\n",
              "</style>\n",
              "\n",
              "  <script>\n",
              "    async function quickchart(key) {\n",
              "      const quickchartButtonEl =\n",
              "        document.querySelector('#' + key + ' button');\n",
              "      quickchartButtonEl.disabled = true;  // To prevent multiple clicks.\n",
              "      quickchartButtonEl.classList.add('colab-df-spinner');\n",
              "      try {\n",
              "        const charts = await google.colab.kernel.invokeFunction(\n",
              "            'suggestCharts', [key], {});\n",
              "      } catch (error) {\n",
              "        console.error('Error during call to suggestCharts:', error);\n",
              "      }\n",
              "      quickchartButtonEl.classList.remove('colab-df-spinner');\n",
              "      quickchartButtonEl.classList.add('colab-df-quickchart-complete');\n",
              "    }\n",
              "    (() => {\n",
              "      let quickchartButtonEl =\n",
              "        document.querySelector('#df-7c205a71-c8ae-4d74-8bd3-0fc5d69d018b button');\n",
              "      quickchartButtonEl.style.display =\n",
              "        google.colab.kernel.accessAllowed ? 'block' : 'none';\n",
              "    })();\n",
              "  </script>\n",
              "</div>\n",
              "\n",
              "  <div id=\"id_9bfbb16c-0001-48cd-bb66-c425b823f10a\">\n",
              "    <style>\n",
              "      .colab-df-generate {\n",
              "        background-color: #E8F0FE;\n",
              "        border: none;\n",
              "        border-radius: 50%;\n",
              "        cursor: pointer;\n",
              "        display: none;\n",
              "        fill: #1967D2;\n",
              "        height: 32px;\n",
              "        padding: 0 0 0 0;\n",
              "        width: 32px;\n",
              "      }\n",
              "\n",
              "      .colab-df-generate:hover {\n",
              "        background-color: #E2EBFA;\n",
              "        box-shadow: 0px 1px 2px rgba(60, 64, 67, 0.3), 0px 1px 3px 1px rgba(60, 64, 67, 0.15);\n",
              "        fill: #174EA6;\n",
              "      }\n",
              "\n",
              "      [theme=dark] .colab-df-generate {\n",
              "        background-color: #3B4455;\n",
              "        fill: #D2E3FC;\n",
              "      }\n",
              "\n",
              "      [theme=dark] .colab-df-generate:hover {\n",
              "        background-color: #434B5C;\n",
              "        box-shadow: 0px 1px 3px 1px rgba(0, 0, 0, 0.15);\n",
              "        filter: drop-shadow(0px 1px 2px rgba(0, 0, 0, 0.3));\n",
              "        fill: #FFFFFF;\n",
              "      }\n",
              "    </style>\n",
              "    <button class=\"colab-df-generate\" onclick=\"generateWithVariable('test')\"\n",
              "            title=\"Generate code using this dataframe.\"\n",
              "            style=\"display:none;\">\n",
              "\n",
              "  <svg xmlns=\"http://www.w3.org/2000/svg\" height=\"24px\"viewBox=\"0 0 24 24\"\n",
              "       width=\"24px\">\n",
              "    <path d=\"M7,19H8.4L18.45,9,17,7.55,7,17.6ZM5,21V16.75L18.45,3.32a2,2,0,0,1,2.83,0l1.4,1.43a1.91,1.91,0,0,1,.58,1.4,1.91,1.91,0,0,1-.58,1.4L9.25,21ZM18.45,9,17,7.55Zm-12,3A5.31,5.31,0,0,0,4.9,8.1,5.31,5.31,0,0,0,1,6.5,5.31,5.31,0,0,0,4.9,4.9,5.31,5.31,0,0,0,6.5,1,5.31,5.31,0,0,0,8.1,4.9,5.31,5.31,0,0,0,12,6.5,5.46,5.46,0,0,0,6.5,12Z\"/>\n",
              "  </svg>\n",
              "    </button>\n",
              "    <script>\n",
              "      (() => {\n",
              "      const buttonEl =\n",
              "        document.querySelector('#id_9bfbb16c-0001-48cd-bb66-c425b823f10a button.colab-df-generate');\n",
              "      buttonEl.style.display =\n",
              "        google.colab.kernel.accessAllowed ? 'block' : 'none';\n",
              "\n",
              "      buttonEl.onclick = () => {\n",
              "        google.colab.notebook.generateWithVariable('test');\n",
              "      }\n",
              "      })();\n",
              "    </script>\n",
              "  </div>\n",
              "\n",
              "    </div>\n",
              "  </div>\n"
            ],
            "application/vnd.google.colaboratory.intrinsic+json": {
              "type": "dataframe",
              "variable_name": "test",
              "summary": "{\n  \"name\": \"test\",\n  \"rows\": 489,\n  \"fields\": [\n    {\n      \"column\": \"Date\",\n      \"properties\": {\n        \"dtype\": \"date\",\n        \"min\": \"2023-02-16 00:00:00\",\n        \"max\": \"2024-06-18 00:00:00\",\n        \"num_unique_values\": 489,\n        \"samples\": [\n          \"2024-05-12 00:00:00\",\n          \"2023-05-11 00:00:00\",\n          \"2024-04-25 00:00:00\"\n        ],\n        \"semantic_type\": \"\",\n        \"description\": \"\"\n      }\n    },\n    {\n      \"column\": \"Open\",\n      \"properties\": {\n        \"dtype\": \"number\",\n        \"std\": 15921.772957481882,\n        \"min\": 20187.876953125,\n        \"max\": 73079.375,\n        \"num_unique_values\": 489,\n        \"samples\": [\n          60793.50390625,\n          27621.0859375,\n          64275.01953125\n        ],\n        \"semantic_type\": \"\",\n        \"description\": \"\"\n      }\n    },\n    {\n      \"column\": \"High\",\n      \"properties\": {\n        \"dtype\": \"number\",\n        \"std\": 16310.499628137324,\n        \"min\": 20370.595703125,\n        \"max\": 73750.0703125,\n        \"num_unique_values\": 489,\n        \"samples\": [\n          61818.15625,\n          27621.94140625,\n          65275.20703125\n        ],\n        \"semantic_type\": \"\",\n        \"description\": \"\"\n      }\n    },\n    {\n      \"column\": \"Low\",\n      \"properties\": {\n        \"dtype\": \"number\",\n        \"std\": 15471.1417474014,\n        \"min\": 19628.25390625,\n        \"max\": 71334.09375,\n        \"num_unique_values\": 488,\n        \"samples\": [\n          29088.04296875,\n          28177.98828125,\n          61795.45703125\n        ],\n        \"semantic_type\": \"\",\n        \"description\": \"\"\n      }\n    },\n    {\n      \"column\": \"Close\",\n      \"properties\": {\n        \"dtype\": \"number\",\n        \"std\": 15943.777199772134,\n        \"min\": 20187.244140625,\n        \"max\": 73083.5,\n        \"num_unique_values\": 489,\n        \"samples\": [\n          61448.39453125,\n          27000.7890625,\n          64481.70703125\n        ],\n        \"semantic_type\": \"\",\n        \"description\": \"\"\n      }\n    },\n    {\n      \"column\": \"Adj Close\",\n      \"properties\": {\n        \"dtype\": \"number\",\n        \"std\": 15943.777199772134,\n        \"min\": 20187.244140625,\n        \"max\": 73083.5,\n        \"num_unique_values\": 489,\n        \"samples\": [\n          61448.39453125,\n          27000.7890625,\n          64481.70703125\n        ],\n        \"semantic_type\": \"\",\n        \"description\": \"\"\n      }\n    },\n    {\n      \"column\": \"Volume\",\n      \"properties\": {\n        \"dtype\": \"number\",\n        \"std\": 13240374089,\n        \"min\": 5331172801,\n        \"max\": 102802940877,\n        \"num_unique_values\": 489,\n        \"samples\": [\n          13800459405,\n          16724343943,\n          32155786816\n        ],\n        \"semantic_type\": \"\",\n        \"description\": \"\"\n      }\n    },\n    {\n      \"column\": \"Returns\",\n      \"properties\": {\n        \"dtype\": \"number\",\n        \"std\": 0.02478285698939754,\n        \"min\": -0.08712073185700822,\n        \"max\": 0.09812340552916099,\n        \"num_unique_values\": 489,\n        \"samples\": [\n          0.01071136415279376,\n          -0.0227376278728039,\n          0.0031812827691917772\n        ],\n        \"semantic_type\": \"\",\n        \"description\": \"\"\n      }\n    },\n    {\n      \"column\": \"Lag_1\",\n      \"properties\": {\n        \"dtype\": \"number\",\n        \"std\": 0.025054666450805303,\n        \"min\": -0.08712073185700822,\n        \"max\": 0.09812340552916099,\n        \"num_unique_values\": 489,\n        \"samples\": [\n          1.5356866757304103e-05,\n          -0.0013393336115541375,\n          -0.03260630131627199\n        ],\n        \"semantic_type\": \"\",\n        \"description\": \"\"\n      }\n    },\n    {\n      \"column\": \"Lag_2\",\n      \"properties\": {\n        \"dtype\": \"number\",\n        \"std\": 0.025064949891128854,\n        \"min\": -0.08712073185700822,\n        \"max\": 0.09812340552916099,\n        \"num_unique_values\": 489,\n        \"samples\": [\n          -0.036456454635488925,\n          -0.0012826051136456092,\n          -0.006460398489914604\n        ],\n        \"semantic_type\": \"\",\n        \"description\": \"\"\n      }\n    },\n    {\n      \"column\": \"prediction_LR\",\n      \"properties\": {\n        \"dtype\": \"number\",\n        \"std\": 0.0019047372697818387,\n        \"min\": -0.007913024420878715,\n        \"max\": 0.008844516079934011,\n        \"num_unique_values\": 489,\n        \"samples\": [\n          -0.0002600046856125046,\n          0.00137641133273604,\n          0.002975991021339784\n        ],\n        \"semantic_type\": \"\",\n        \"description\": \"\"\n      }\n    },\n    {\n      \"column\": \"direction_LR\",\n      \"properties\": {\n        \"dtype\": \"number\",\n        \"std\": 0,\n        \"min\": -1,\n        \"max\": 1,\n        \"num_unique_values\": 2,\n        \"samples\": [\n          1,\n          -1\n        ],\n        \"semantic_type\": \"\",\n        \"description\": \"\"\n      }\n    },\n    {\n      \"column\": \"strat_LR\",\n      \"properties\": {\n        \"dtype\": \"number\",\n        \"std\": 0.02482055009619861,\n        \"min\": -0.09043081735478727,\n        \"max\": 0.09812340552916099,\n        \"num_unique_values\": 489,\n        \"samples\": [\n          -0.01071136415279376,\n          -0.0227376278728039\n        ],\n        \"semantic_type\": \"\",\n        \"description\": \"\"\n      }\n    }\n  ]\n}"
            }
          },
          "metadata": {},
          "execution_count": 140
        }
      ]
    },
    {
      "cell_type": "code",
      "source": [
        "model.fit(train[lagnames], train['Returns'])"
      ],
      "metadata": {
        "colab": {
          "base_uri": "https://localhost:8080/",
          "height": 75
        },
        "id": "BmXKGMXTXQU8",
        "outputId": "25a1c836-ab54-4b4c-fdc7-a1aada16d464"
      },
      "execution_count": 141,
      "outputs": [
        {
          "output_type": "execute_result",
          "data": {
            "text/plain": [
              "LinearRegression()"
            ],
            "text/html": [
              "<style>#sk-container-id-7 {color: black;background-color: white;}#sk-container-id-7 pre{padding: 0;}#sk-container-id-7 div.sk-toggleable {background-color: white;}#sk-container-id-7 label.sk-toggleable__label {cursor: pointer;display: block;width: 100%;margin-bottom: 0;padding: 0.3em;box-sizing: border-box;text-align: center;}#sk-container-id-7 label.sk-toggleable__label-arrow:before {content: \"▸\";float: left;margin-right: 0.25em;color: #696969;}#sk-container-id-7 label.sk-toggleable__label-arrow:hover:before {color: black;}#sk-container-id-7 div.sk-estimator:hover label.sk-toggleable__label-arrow:before {color: black;}#sk-container-id-7 div.sk-toggleable__content {max-height: 0;max-width: 0;overflow: hidden;text-align: left;background-color: #f0f8ff;}#sk-container-id-7 div.sk-toggleable__content pre {margin: 0.2em;color: black;border-radius: 0.25em;background-color: #f0f8ff;}#sk-container-id-7 input.sk-toggleable__control:checked~div.sk-toggleable__content {max-height: 200px;max-width: 100%;overflow: auto;}#sk-container-id-7 input.sk-toggleable__control:checked~label.sk-toggleable__label-arrow:before {content: \"▾\";}#sk-container-id-7 div.sk-estimator input.sk-toggleable__control:checked~label.sk-toggleable__label {background-color: #d4ebff;}#sk-container-id-7 div.sk-label input.sk-toggleable__control:checked~label.sk-toggleable__label {background-color: #d4ebff;}#sk-container-id-7 input.sk-hidden--visually {border: 0;clip: rect(1px 1px 1px 1px);clip: rect(1px, 1px, 1px, 1px);height: 1px;margin: -1px;overflow: hidden;padding: 0;position: absolute;width: 1px;}#sk-container-id-7 div.sk-estimator {font-family: monospace;background-color: #f0f8ff;border: 1px dotted black;border-radius: 0.25em;box-sizing: border-box;margin-bottom: 0.5em;}#sk-container-id-7 div.sk-estimator:hover {background-color: #d4ebff;}#sk-container-id-7 div.sk-parallel-item::after {content: \"\";width: 100%;border-bottom: 1px solid gray;flex-grow: 1;}#sk-container-id-7 div.sk-label:hover label.sk-toggleable__label {background-color: #d4ebff;}#sk-container-id-7 div.sk-serial::before {content: \"\";position: absolute;border-left: 1px solid gray;box-sizing: border-box;top: 0;bottom: 0;left: 50%;z-index: 0;}#sk-container-id-7 div.sk-serial {display: flex;flex-direction: column;align-items: center;background-color: white;padding-right: 0.2em;padding-left: 0.2em;position: relative;}#sk-container-id-7 div.sk-item {position: relative;z-index: 1;}#sk-container-id-7 div.sk-parallel {display: flex;align-items: stretch;justify-content: center;background-color: white;position: relative;}#sk-container-id-7 div.sk-item::before, #sk-container-id-7 div.sk-parallel-item::before {content: \"\";position: absolute;border-left: 1px solid gray;box-sizing: border-box;top: 0;bottom: 0;left: 50%;z-index: -1;}#sk-container-id-7 div.sk-parallel-item {display: flex;flex-direction: column;z-index: 1;position: relative;background-color: white;}#sk-container-id-7 div.sk-parallel-item:first-child::after {align-self: flex-end;width: 50%;}#sk-container-id-7 div.sk-parallel-item:last-child::after {align-self: flex-start;width: 50%;}#sk-container-id-7 div.sk-parallel-item:only-child::after {width: 0;}#sk-container-id-7 div.sk-dashed-wrapped {border: 1px dashed gray;margin: 0 0.4em 0.5em 0.4em;box-sizing: border-box;padding-bottom: 0.4em;background-color: white;}#sk-container-id-7 div.sk-label label {font-family: monospace;font-weight: bold;display: inline-block;line-height: 1.2em;}#sk-container-id-7 div.sk-label-container {text-align: center;}#sk-container-id-7 div.sk-container {/* jupyter's `normalize.less` sets `[hidden] { display: none; }` but bootstrap.min.css set `[hidden] { display: none !important; }` so we also need the `!important` here to be able to override the default hidden behavior on the sphinx rendered scikit-learn.org. See: https://github.com/scikit-learn/scikit-learn/issues/21755 */display: inline-block !important;position: relative;}#sk-container-id-7 div.sk-text-repr-fallback {display: none;}</style><div id=\"sk-container-id-7\" class=\"sk-top-container\"><div class=\"sk-text-repr-fallback\"><pre>LinearRegression()</pre><b>In a Jupyter environment, please rerun this cell to show the HTML representation or trust the notebook. <br />On GitHub, the HTML representation is unable to render, please try loading this page with nbviewer.org.</b></div><div class=\"sk-container\" hidden><div class=\"sk-item\"><div class=\"sk-estimator sk-toggleable\"><input class=\"sk-toggleable__control sk-hidden--visually\" id=\"sk-estimator-id-7\" type=\"checkbox\" checked><label for=\"sk-estimator-id-7\" class=\"sk-toggleable__label sk-toggleable__label-arrow\">LinearRegression</label><div class=\"sk-toggleable__content\"><pre>LinearRegression()</pre></div></div></div></div></div>"
            ]
          },
          "metadata": {},
          "execution_count": 141
        }
      ]
    },
    {
      "cell_type": "code",
      "source": [
        "test['prediction_LR'] = model.predict(test[lagnames])"
      ],
      "metadata": {
        "id": "9pMKfXrhXyEK"
      },
      "execution_count": 142,
      "outputs": []
    },
    {
      "cell_type": "code",
      "source": [
        "test['direction_LR'] = [1 if i > 0 else -1 for i in test.prediction_LR]"
      ],
      "metadata": {
        "id": "KmFsYtnGX_G8"
      },
      "execution_count": 143,
      "outputs": []
    },
    {
      "cell_type": "code",
      "source": [
        "test['strat_LR'] = test['direction_LR'] * test['Returns']"
      ],
      "metadata": {
        "id": "waicNCG1YLIs"
      },
      "execution_count": 144,
      "outputs": []
    },
    {
      "cell_type": "code",
      "source": [
        "np.exp(test[['Returns','strat_LR']].sum())"
      ],
      "metadata": {
        "colab": {
          "base_uri": "https://localhost:8080/"
        },
        "id": "9NALYeTWYTvz",
        "outputId": "929dc068-56d4-41fd-9f0e-d23f29ec4afc"
      },
      "execution_count": 145,
      "outputs": [
        {
          "output_type": "execute_result",
          "data": {
            "text/plain": [
              "Returns     2.652839\n",
              "strat_LR    2.145640\n",
              "dtype: float64"
            ]
          },
          "metadata": {},
          "execution_count": 145
        }
      ]
    },
    {
      "cell_type": "code",
      "source": [
        "np.exp(test[['Returns','strat_LR']].cumsum()).plot()"
      ],
      "metadata": {
        "colab": {
          "base_uri": "https://localhost:8080/",
          "height": 484
        },
        "id": "b2jIi1tbYnLp",
        "outputId": "fc05cd35-177e-4579-e1d0-0d2f52c4a7c4"
      },
      "execution_count": 146,
      "outputs": [
        {
          "output_type": "execute_result",
          "data": {
            "text/plain": [
              "<Axes: xlabel='Date'>"
            ]
          },
          "metadata": {},
          "execution_count": 146
        },
        {
          "output_type": "display_data",
          "data": {
            "text/plain": [
              "<Figure size 640x480 with 1 Axes>"
            ],
            "image/png": "[encoded data removed]"
          },
          "metadata": {}
        }
      ]
    },
    {
      "cell_type": "code",
      "source": [
        "(test['direction_LR'].diff() != 0).value_counts()"
      ],
      "metadata": {
        "colab": {
          "base_uri": "https://localhost:8080/"
        },
        "id": "wkpcR-KUZZYS",
        "outputId": "185a3ff3-8cf9-45f1-f531-7aceafd5cdd7"
      },
      "execution_count": 147,
      "outputs": [
        {
          "output_type": "execute_result",
          "data": {
            "text/plain": [
              "direction_LR\n",
              "False    269\n",
              "True     220\n",
              "Name: count, dtype: int64"
            ]
          },
          "metadata": {},
          "execution_count": 147
        }
      ]
    }
  ]
}