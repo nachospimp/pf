{
  "nbformat": 4,
  "nbformat_minor": 0,
  "metadata": {
    "colab": {
      "provenance": [],
      "collapsed_sections": [
        "UtJSH8qi4VZB",
        "VhOcUfeu2r7P",
        "eGkT3NMZHEpO"
      ],
      "include_colab_link": true
    },
    "kernelspec": {
      "name": "python3",
      "display_name": "Python 3"
    },
    "language_info": {
      "name": "python"
    }
  },
  "cells": [
    {
      "cell_type": "markdown",
      "metadata": {
        "id": "view-in-github",
        "colab_type": "text"
      },
      "source": [
        "<a href=\"https://colab.research.google.com/github/nachospimp/pf/blob/main/Copia_de_PricingOpciones_Black_Scholes_M_C_Greeks_IV_JA.ipynb\" target=\"_parent\"><img src=\"https://colab.research.google.com/assets/colab-badge.svg\" alt=\"Open In Colab\"/></a>"
      ]
    },
    {
      "cell_type": "code",
      "source": [
        "# @ Nachospimp\n",
        "#! pip install py_vollib\n",
        "import math\n",
        "from scipy.stats import norm\n",
        "import random\n",
        "import numpy as np\n",
        "from py_vollib.black_scholes.greeks.analytical import delta, gamma, vega, theta, rho\n",
        "import matplotlib.pyplot as plt"
      ],
      "metadata": {
        "id": "6Ncg917f1ErD",
        "collapsed": true
      },
      "execution_count": null,
      "outputs": []
    },
    {
      "cell_type": "markdown",
      "source": [
        "#**Pricing de Opciones, calculo de IV**"
      ],
      "metadata": {
        "id": "I7NN7zW1NNaH"
      }
    },
    {
      "cell_type": "markdown",
      "source": [
        "# Definir variables Black-Scholes, Monte-Carlo\n",
        "\n",
        "Establecer parámetros en las métricas generales indicadas, con una volatilidad inicial aproximada para obtener el precio B-S de la opción call/put , precio, simulaciones e intervalo de confianza Monte-Carlo.\n",
        "\n",
        "Con estos resultados, especificar las métricas necesarias en la seccion \"IV\" para obtener la Implied Volatility por medio de Delta o Vega, segun lo deseado.\n",
        "\n",
        "Volver a calcular métricas generales con la volatilidad deseada (\"vol\"), ya sea la obtenida con Delta o Vega o bien mantener la aproximación de volatilidad original.\n",
        "\n",
        "(En caso de error al definir nuevas métricas y correr esa específica selección, ejecutar el código completo..\n",
        "Entorno de ejecución --> Ejecutar todo)\n"
      ],
      "metadata": {
        "id": "E568aSuY2QDB"
      }
    },
    {
      "cell_type": "markdown",
      "source": [
        "# **Métricas Generales**"
      ],
      "metadata": {
        "id": "Ij8voDmIc3tl"
      }
    },
    {
      "cell_type": "code",
      "source": [
        "# **Métricas generales**\n",
        "# Definir variables para Black-Scholes y Monte-Carlo.\n",
        "# Inputs Interactivos.\n",
        "\n",
        "S = 174.20 # Underlying Price\n",
        "\n",
        "K = 175 # Strike Price\n",
        "\n",
        "t = 0  # ej. meses 1/12, 3/12, 6/12, 9/12 \\ días 180/365, 30/365, 1/365\n",
        "\n",
        "T = 3/365 # Time to exp ej. meses: 1/12, 3/12, 6/12, 9/12 \\ días 180/365, 30/365, 1/365\n",
        "\n",
        "r = 0.0423 # Interest rate\n",
        "\n",
        "vol = 0.31 # Volatilidad. Definir con aprox. inicial o definir (IV) por medio de delta o vega y re-calcular con la volatilidad actualizada, según se desee.\n",
        "\n",
        "monte_carlo_size = 10**6 # Numero de simulaciones Monte Carlo\n",
        "\n",
        "type = \"c\" # <- Para obtener griegas c/p según call o put\n"
      ],
      "metadata": {
        "id": "Sc6KwXk_4_2a"
      },
      "execution_count": null,
      "outputs": []
    },
    {
      "cell_type": "markdown",
      "source": [
        "# **Código.** ^Correr con los inputs deseados^"
      ],
      "metadata": {
        "id": "UtJSH8qi4VZB"
      }
    },
    {
      "cell_type": "code",
      "source": [
        "# Calcular D1 y D2\n",
        "d1 = 1 / (vol * np.sqrt(T - t)) * (np.log(S / K) + (r + 0.5 * (vol**2)) * (T - t))  # (math.log(S/K) + (r + 0.5 * vol**2) * T ) / (vol * math.sqrt(T))\n",
        "d2 = d1 - (vol * math.sqrt(T - t))\n",
        "\n",
        "# Calcular Call Option Price\n",
        "C = S * norm.cdf(d1) - K * math.exp(-r * (T - t)) *norm.cdf(d2)\n",
        "# Calcular Put Option Price\n",
        "P = K * math.exp(-r * (T - t)) * norm.cdf(-d2) - S * norm.cdf(-d1)\n",
        "\n",
        "# Monte-Carlo parámetros\n",
        "N = np.random.standard_normal(10**6)\n",
        "price_underlying = S * np.exp((r - 0.5 * (vol**2)) * T + vol * np.sqrt(T) * N)\n",
        "monte_carlo_simulations = np.exp(-(r * T)) * np.array([max(S - K, 0.0) for S in price_underlying])\n",
        "monte_carlo_price = np.mean(monte_carlo_simulations)\n",
        "monte_carlo_confidence_interval = monte_carlo_price + np.array([-1, +1]) * 1.96 * np.std(monte_carlo_simulations) / np.sqrt(monte_carlo_size)\n",
        "\n",
        "# Calcular option greeks\n",
        "delta_option = delta(type, S, K, T, r, vol)\n",
        "gamma_option = gamma(type, S, K, T, r, vol)\n",
        "vega_option = vega(type, S, K, T, r, vol)\n",
        "theta_option = theta(type, S, K, T, r, vol)\n",
        "rho_option = rho(type, S, K, T, r, vol)"
      ],
      "metadata": {
        "id": "9-5n10mo4Oj4"
      },
      "execution_count": null,
      "outputs": []
    },
    {
      "cell_type": "markdown",
      "source": [
        "#**Resultados:**"
      ],
      "metadata": {
        "id": "606yP9YH8Jw2"
      }
    },
    {
      "cell_type": "code",
      "source": [
        "print('D1 =', round(d1,4))\n",
        "print('D2 =', round(d2,3))\n",
        "print('El valor B-S de la opción call es $', round (C, 2))\n",
        "print('El valor B-S de la opción put es $', round (P, 2))\n",
        "print('El valor de la opción Monte-Carlo en esta simulación es $', round (monte_carlo_price,2))\n",
        "print('El intervalo de confianza Monte-Carlo es entre', (monte_carlo_confidence_interval))\n",
        "print('El número de simulaciones Monte-Carlo es ', (monte_carlo_size))\n",
        "print(\"OPTION GREEKS:\")\n",
        "print(\"Delta:\", round(delta_option, 3))\n",
        "print(\"Gamma:\", round(gamma_option, 3))\n",
        "print(\" Vega:\", round(vega_option, 3))\n",
        "print(\"Theta:\", round(theta_option, 3))\n",
        "print(\"  Rho:\", round(rho_option, 3))"
      ],
      "metadata": {
        "colab": {
          "base_uri": "https://localhost:8080/"
        },
        "id": "fyWUn4xv3Iqk",
        "outputId": "05848022-165b-4634-c5ee-a09a2635b299"
      },
      "execution_count": null,
      "outputs": [
        {
          "output_type": "stream",
          "name": "stdout",
          "text": [
            "D1 = -0.1366\n",
            "D2 = -0.165\n",
            "El valor B-S de la opción call es $ 1.61\n",
            "El valor B-S de la opción put es $ 2.35\n",
            "El valor de la opción Monte-Carlo en esta simulación es $ 1.61\n",
            "El intervalo de confianza Monte-Carlo es entre [1.60654978 1.61696508]\n",
            "El número de simulaciones Monte-Carlo es  1000000\n",
            "OPTION GREEKS:\n",
            "Delta: 0.446\n",
            "Gamma: 0.081\n",
            " Vega: 0.062\n",
            "Theta: -0.331\n",
            "  Rho: 0.006\n"
          ]
        }
      ]
    },
    {
      "cell_type": "markdown",
      "source": [
        "#**Implied Volatility (IV)**"
      ],
      "metadata": {
        "id": "tJaU4E8xoizC"
      }
    },
    {
      "cell_type": "markdown",
      "source": [
        "#**Obtener IV  para opción por medio de Delta. Definir métricas.**"
      ],
      "metadata": {
        "id": "pWRQUNdnEG7x"
      }
    },
    {
      "cell_type": "code",
      "source": [
        "# Parámetros para calcular IV por medio de Delta.\n",
        "# Para obtener la volatilidad por este método es necesario la Delta previamente obtenida en los resultados.\n",
        "# Inputs Interactivos.\n",
        "\n",
        "S = 174.20   # Spot Price\n",
        "\n",
        "K = 175     # Strike price\n",
        "\n",
        "t = 3/365  # Tiempo para expiración\n",
        "\n",
        "r = 0.0423    # Interest Rate\n",
        "\n",
        "delta = 0.446 # <-- Delta obtenida anteriormente en OPTION GREEKS. No olvidar definir si es call o put en 'type=\" \"'\n"
      ],
      "metadata": {
        "id": "A4QinBaC9o1Y"
      },
      "execution_count": null,
      "outputs": []
    },
    {
      "cell_type": "markdown",
      "source": [
        "# Código. Método de Newton (Delta).\n",
        "\n",
        "\n"
      ],
      "metadata": {
        "id": "VhOcUfeu2r7P"
      }
    },
    {
      "cell_type": "code",
      "source": [
        "# Código para obtener IV por medio de Delta. Método de Newton.\n",
        "def newtons_method(f, fprime, R = 0, max_iter = 1000, tol=1e-3, args = [], debug = False):\n",
        "    count = 0\n",
        "    epsilon = 1\n",
        "    f_return = []\n",
        "    fprime_return = []\n",
        "\n",
        "    while epsilon >= tol:\n",
        "        count += 1\n",
        "        if count >= max_iter:\n",
        "            print('Exiting on runaway loop.')\n",
        "            return (R, count)\n",
        "\n",
        "        old_R = R\n",
        "\n",
        "        function_value = f(R, args = args)\n",
        "        function_derivative = fprime(R, args = args)\n",
        "        #ind = np.where(function_derivative <= 0)\n",
        "        #ind = ind[0]\n",
        "\n",
        "        R = -function_value / function_derivative + R\n",
        "\n",
        "        #if ind.size > 0:\n",
        "        #    R[ ind ] = R[ ind ] * 0.5 + R[ ind ]\n",
        "\n",
        "        if np.isscalar(R):\n",
        "            epsilon = np.abs( (R - old_R) /old_R )\n",
        "        else:\n",
        "            epsilon = np.linalg.norm( R - old_R, np.Inf)\n",
        "\n",
        "        if debug == True:\n",
        "            f_return.append(function_value)\n",
        "            fprime_return.append(function_derivative)\n",
        "\n",
        "    return R, count\n",
        "\n",
        "def delta_call(sigma, S, K, r, t):\n",
        "    d1 = np.multiply( 1. / sigma * np.divide(1., np.sqrt(t)),\n",
        "        np.log(S/K) + (r + sigma**2 / 2.) * t  )\n",
        "\n",
        "    return norm.cdf(d1)\n",
        "\n",
        "def vanna(sigma, args):\n",
        "    S = args[0]\n",
        "    K = args[1]\n",
        "    r = args[2]\n",
        "    t = args[3]\n",
        "\n",
        "    d1 = np.multiply( 1. / sigma * np.divide(1., np.sqrt(t)),\n",
        "        np.log(S/K) + (r + sigma**2 / 2.) * t  )\n",
        "    d2 = d1 - sigma * np.sqrt(t)\n",
        "\n",
        "    return -norm.cdf(d1) * d2 / sigma\n",
        "\n",
        "def objective(sigma, args):\n",
        "    S = args[0]\n",
        "    K = args[1]\n",
        "    r = args[2]\n",
        "    t = args[3]\n",
        "    delta = args[4]\n",
        "\n",
        "    return delta_call(sigma, S, K, r, t) - delta\n",
        "\n",
        "args = (S, K, r, t, delta)\n",
        "sigma = np.linspace(0, 1)\n",
        "y = objective(sigma, args)"
      ],
      "metadata": {
        "id": "23gOG4An5vtM",
        "colab": {
          "base_uri": "https://localhost:8080/"
        },
        "outputId": "7d8e4750-fcc9-4c83-e7e6-bf03372bda54"
      },
      "execution_count": null,
      "outputs": [
        {
          "output_type": "stream",
          "name": "stderr",
          "text": [
            "<ipython-input-53-c2a11e7e70bb>:38: RuntimeWarning: divide by zero encountered in divide\n",
            "  d1 = np.multiply( 1. / sigma * np.divide(1., np.sqrt(t)),\n"
          ]
        }
      ]
    },
    {
      "cell_type": "markdown",
      "source": [
        "# **Resultados de IV desde Delta.**"
      ],
      "metadata": {
        "id": "2BtsR9YOHQFC"
      }
    },
    {
      "cell_type": "code",
      "source": [
        "print('La IV calculada por medio de Delta es =', (newtons_method(objective, vanna, R = 0.10, args = args)))\n",
        "print('Re-calcular en métricas generales con esta \"vol\" actualizada, si se desea.' )\n"
      ],
      "metadata": {
        "colab": {
          "base_uri": "https://localhost:8080/"
        },
        "id": "EQPn_vYY9-VH",
        "outputId": "7f7ad843-4431-46ff-a600-91c94ef96f62"
      },
      "execution_count": null,
      "outputs": [
        {
          "output_type": "stream",
          "name": "stdout",
          "text": [
            "La IV calculada por medio de Delta es = (0.31155271975698, 6)\n",
            "Re-calcular en métricas generales con esta \"vol\" actualizada, si se desea.\n"
          ]
        }
      ]
    },
    {
      "cell_type": "markdown",
      "source": [
        "# Gráfica IV. (Delta)"
      ],
      "metadata": {
        "id": "I-x7bXnOJVc6"
      }
    },
    {
      "cell_type": "code",
      "source": [
        "plt.plot(sigma, y)\n",
        "plt.grid()"
      ],
      "metadata": {
        "colab": {
          "base_uri": "https://localhost:8080/",
          "height": 430
        },
        "id": "v8wADsrf95wq",
        "outputId": "fb94d45c-822a-4aad-8745-9773d5bf5ffd"
      },
      "execution_count": null,
      "outputs": [
        {
          "output_type": "display_data",
          "data": {
            "text/plain": [
              "<Figure size 640x480 with 1 Axes>"
            ],
            "image/png": "[encoded data removed]"
          },
          "metadata": {}
        }
      ]
    },
    {
      "cell_type": "markdown",
      "source": [
        "#**Obtener IV  para Call Option por medio de Vega. Definir métricas.**"
      ],
      "metadata": {
        "id": "nYvjV1MMAa-6"
      }
    },
    {
      "cell_type": "code",
      "source": [
        "# Parámetros para obtener IV por medio de Vega.\n",
        "# Para obtener la volatilidad por este método es necesario una aproximación de volatilidad inicial y el precio de mercado de la opción.\n",
        "\n",
        "vol_old = 0.3115 # <-- Aproximacion de volatilidad inicial\n",
        "\n",
        "S0 = 174.20 # Spot Price\n",
        "\n",
        "Strike_Price = 175 # Strike Price\n",
        "\n",
        "time = 3/365  # Tiempo para expiración\n",
        "\n",
        "interest = 0.0423 # Risk-free rate\n",
        "\n",
        "market_price = 1.61 # <-- Precio de mercado de la opción\n"
      ],
      "metadata": {
        "id": "RN16UPEPg3v4"
      },
      "execution_count": null,
      "outputs": []
    },
    {
      "cell_type": "markdown",
      "source": [
        "# Código. Método de Newton (Vega)."
      ],
      "metadata": {
        "id": "eGkT3NMZHEpO"
      }
    },
    {
      "cell_type": "code",
      "source": [
        "import matplotlib.pyplot as plt\n",
        "\n",
        " #Código para obtener IV por medio de Vega. Método de Newton. Requiere una volatilidad inicial y el precio de mercado de la opción.\n",
        "def d(sigma, S0, Strike_Price, time, interest):\n",
        "  D1 = 1 / (sigma * np.sqrt(time)) * (np.log(S0/Strike_Price) + (interest + 0.5 * (sigma**2)) * t)\n",
        "  D2 = D1 - (sigma * math.sqrt(time))\n",
        "  return D1, D2\n",
        "\n",
        "def call(sigma, S0, Strike_Price, time, interest, D1, D2):\n",
        "  Call = S0 * norm.cdf(D1) - Strike_Price * math.exp(-interest * (time)) * norm.cdf(D2)\n",
        "  return Call\n",
        "\n",
        "  \" Calculate implied volatility\"\n",
        "  \"\"\n",
        "\n",
        "max_iter = 1000 # max numero de iteraciones\n",
        "\n",
        "count = 0\n",
        "tol = 0.00001\n",
        "epsilon = 1\n",
        "\n",
        "while epsilon > tol:\n",
        "  count += 1\n",
        "  if count >= max_iter:\n",
        "    print('Breaking on count')\n",
        "    break;\n",
        "\n",
        "  orig_vol = vol_old # Aproximación poriginal de volatilidad\n",
        "\n",
        "  D1, D2 = d(vol_old, S0, Strike_Price, time, interest)\n",
        "  function_value = call(vol_old, S0, Strike_Price, time, interest, D1, D2) - market_price\n",
        "\n",
        "  vega = S0 * norm.pdf(D1, 0, 1) * np.sqrt(time)\n",
        "  #vega = vega_option\n",
        "  vol_new = -function_value / vega + vol_old # Nueva vol. por medio de Vega.\n",
        "\n",
        "  epsilon = abs((vol_old - orig_vol) / orig_vol)\n",
        "\n",
        "sigma = np.linspace (0,1)\n",
        "D1,D2 = d(sigma, S0, Strike_Price, time, interest)\n",
        "call_price = call(sigma,S0, Strike_Price, time, interest, D1, D2)"
      ],
      "metadata": {
        "colab": {
          "base_uri": "https://localhost:8080/"
        },
        "id": "LfIrfKXOY1I4",
        "outputId": "0ab095d4-d186-464c-ce18-80d62d161c4f",
        "collapsed": true
      },
      "execution_count": null,
      "outputs": [
        {
          "output_type": "stream",
          "name": "stderr",
          "text": [
            "<ipython-input-57-e06bb483bd46>:5: RuntimeWarning: divide by zero encountered in divide\n",
            "  D1 = 1 / (sigma * np.sqrt(time)) * (np.log(S0/Strike_Price) + (interest + 0.5 * (sigma**2)) * t)\n"
          ]
        }
      ]
    },
    {
      "cell_type": "markdown",
      "source": [
        "# **Resultados de IV desde Vega.**"
      ],
      "metadata": {
        "id": "eTAOlgVpAOV7"
      }
    },
    {
      "cell_type": "code",
      "source": [
        "print('Nuestra aproximación de volatilidad inicial era       =', (vol_old))\n",
        "print('La volatilidad (IV) calculada por medio de Vega es de =', round(vol_new, 4))\n",
        "print('Re-calcular en métricas generales con esta \"vol\" actualizada, si se desea.' )"
      ],
      "metadata": {
        "colab": {
          "base_uri": "https://localhost:8080/"
        },
        "id": "CDsMCezP_5gh",
        "outputId": "dcbac434-6f34-4292-861a-cfea90f26d6d"
      },
      "execution_count": null,
      "outputs": [
        {
          "output_type": "stream",
          "name": "stdout",
          "text": [
            "Nuestra aproximación de volatilidad inicial era       = 0.3115\n",
            "La volatilidad (IV) calculada por medio de Vega es de = 0.31\n",
            "Re-calcular en métricas generales con esta \"vol\" actualizada, si se desea.\n"
          ]
        }
      ]
    },
    {
      "cell_type": "markdown",
      "source": [
        "# Gráfica IV. (Vega)"
      ],
      "metadata": {
        "id": "9OAkyXpRObXD"
      }
    },
    {
      "cell_type": "code",
      "source": [
        "plt.plot( sigma , call_price - market_price)\n",
        "plt.grid()\n",
        "plt.show()"
      ],
      "metadata": {
        "colab": {
          "base_uri": "https://localhost:8080/",
          "height": 430
        },
        "id": "_Chitn2OOrPs",
        "outputId": "49cd5a64-2211-4a5a-aa95-8aed3b633ae0"
      },
      "execution_count": null,
      "outputs": [
        {
          "output_type": "display_data",
          "data": {
            "text/plain": [
              "<Figure size 640x480 with 1 Axes>"
            ],
            "image/png": "[encoded data removed]"
          },
          "metadata": {}
        }
      ]
    },
    {
      "cell_type": "markdown",
      "source": [
        "# **Resultados generales:**"
      ],
      "metadata": {
        "id": "ZhOdmRirbvkt"
      }
    },
    {
      "cell_type": "markdown",
      "source": [
        "# Black-Scholes Price"
      ],
      "metadata": {
        "id": "sgHaR2BsOKk7"
      }
    },
    {
      "cell_type": "code",
      "source": [
        "print('El valor de la opción call es $', round (C, 2))\n",
        "print('El valor de la opción put es $', round (P, 2))"
      ],
      "metadata": {
        "id": "sOJkC84q8Me8",
        "colab": {
          "base_uri": "https://localhost:8080/"
        },
        "outputId": "b0544a75-ea2a-4958-92b6-4de1e6a65fda"
      },
      "execution_count": null,
      "outputs": [
        {
          "output_type": "stream",
          "name": "stdout",
          "text": [
            "El valor de la opción call es $ 1.61\n",
            "El valor de la opción put es $ 2.35\n"
          ]
        }
      ]
    },
    {
      "cell_type": "markdown",
      "source": [
        "# Monte Carlo Price"
      ],
      "metadata": {
        "id": "FxdPFm7MACxf"
      }
    },
    {
      "cell_type": "code",
      "source": [
        "print('El valor de la opción Monte-Carlo en esta simulación es $', round (monte_carlo_price,2))"
      ],
      "metadata": {
        "id": "QYSOHlYKDjWo",
        "colab": {
          "base_uri": "https://localhost:8080/"
        },
        "outputId": "f2dea52e-5cc2-4943-b7c3-45a6b668b6d0"
      },
      "execution_count": null,
      "outputs": [
        {
          "output_type": "stream",
          "name": "stdout",
          "text": [
            "El valor de la opción Monte-Carlo en esta simulación es $ 1.61\n"
          ]
        }
      ]
    },
    {
      "cell_type": "markdown",
      "source": [
        "# Intervalo de Confianza Monte-Carlo"
      ],
      "metadata": {
        "id": "lLqX_hv6Ec3O"
      }
    },
    {
      "cell_type": "code",
      "source": [
        "print('El intervalo de confianza Monte-Carlo es entre', (monte_carlo_confidence_interval))"
      ],
      "metadata": {
        "id": "A7mfCNL2FDFX",
        "colab": {
          "base_uri": "https://localhost:8080/"
        },
        "outputId": "0ad04612-7ad7-4876-e08c-4713baf8bffc"
      },
      "execution_count": null,
      "outputs": [
        {
          "output_type": "stream",
          "name": "stdout",
          "text": [
            "El intervalo de confianza Monte-Carlo es entre [1.60654978 1.61696508]\n"
          ]
        }
      ]
    },
    {
      "cell_type": "markdown",
      "source": [
        "# Número de simulaciones"
      ],
      "metadata": {
        "id": "PgEAHgKvOtXI"
      }
    },
    {
      "cell_type": "code",
      "source": [
        "print('El número de simulaciones Monte-Carlo es ', (monte_carlo_size))"
      ],
      "metadata": {
        "id": "uNh94DXPOaST",
        "colab": {
          "base_uri": "https://localhost:8080/"
        },
        "outputId": "1aa4ebbc-c29e-4a8d-c859-5748245dba44"
      },
      "execution_count": null,
      "outputs": [
        {
          "output_type": "stream",
          "name": "stdout",
          "text": [
            "El número de simulaciones Monte-Carlo es  1000000\n"
          ]
        }
      ]
    },
    {
      "cell_type": "markdown",
      "source": [
        "# IV. Implied Volatility"
      ],
      "metadata": {
        "id": "h0UlH3dpZUFC"
      }
    },
    {
      "cell_type": "code",
      "source": [
        "print('Volatilidad actualmente en métricas generales         =', (vol))\n",
        "print('Nuestra aproximación de volatilidad inicial era       =', (vol_old))\n",
        "print('La IV calculada por medio de Delta es                 =', (newtons_method(objective, vanna, R = 0.10, args = args)))\n",
        "print('La volatilidad (IV) calculada por medio de Vega es de =', round(vol_new, 4))"
      ],
      "metadata": {
        "colab": {
          "base_uri": "https://localhost:8080/"
        },
        "id": "SAYoGz1SZfG7",
        "outputId": "fbadf8b1-a97a-4681-9f28-bd8244b9a45b"
      },
      "execution_count": null,
      "outputs": [
        {
          "output_type": "stream",
          "name": "stdout",
          "text": [
            "Volatilidad actualmente en métricas generales         = 0.31\n",
            "Nuestra aproximación de volatilidad inicial era       = 0.3115\n",
            "La IV calculada por medio de Delta es                 = (0.31155271975698, 6)\n",
            "La volatilidad (IV) calculada por medio de Vega es de = 0.31\n"
          ]
        }
      ]
    },
    {
      "cell_type": "markdown",
      "source": [
        "#**Respuestas para BTC-USD**"
      ],
      "metadata": {
        "id": "M7OBzHeCdFz5"
      }
    },
    {
      "cell_type": "code",
      "source": [
        "print('D1 =', round(d1,4))\n",
        "print('D2 =', round(d2,3))\n",
        "print('El valor de la opción call es $', round (C, 2))\n",
        "print('El valor de la opción put es $', round (P, 2))\n",
        "print('El valor de la opción Monte-Carlo en esta simulación es $', round (monte_carlo_price,2))\n",
        "print('El intervalo de confianza Monte-Carlo es entre', (monte_carlo_confidence_interval))\n",
        "print('El número de simulaciones Monte-Carlo es ', (monte_carlo_size))\n",
        "print('En esta simulación ambos se encuentran dentro del intervalo de confianza de Monte-Carlo.')"
      ],
      "metadata": {
        "id": "SyxPDvyGb0rk",
        "colab": {
          "base_uri": "https://localhost:8080/"
        },
        "outputId": "712fe183-4d2f-4180-c148-606f51ad83a1"
      },
      "execution_count": null,
      "outputs": [
        {
          "output_type": "stream",
          "name": "stdout",
          "text": [
            "D1 = -0.1366\n",
            "D2 = -0.165\n",
            "El valor de la opción call es $ 1.61\n",
            "El valor de la opción put es $ 2.35\n",
            "El valor de la opción Monte-Carlo en esta simulación es $ 1.61\n",
            "El intervalo de confianza Monte-Carlo es entre [1.60654978 1.61696508]\n",
            "El número de simulaciones Monte-Carlo es  1000000\n",
            "En esta simulación ambos se encuentran dentro del intervalo de confianza de Monte-Carlo.\n"
          ]
        }
      ]
    }
  ]
}