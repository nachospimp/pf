{
  "nbformat": 4,
  "nbformat_minor": 0,
  "metadata": {
    "colab": {
      "provenance": []
    },
    "kernelspec": {
      "name": "python3",
      "display_name": "Python 3"
    },
    "language_info": {
      "name": "python"
    }
  },
  "cells": [
    {
      "cell_type": "code",
      "source": [
        "import math\n",
        "from scipy.stats import norm\n",
        "import random\n",
        "import numpy as np"
      ],
      "metadata": {
        "id": "6Ncg917f1ErD"
      },
      "execution_count": 115,
      "outputs": []
    },
    {
      "cell_type": "markdown",
      "source": [
        "#**Pricing de Opciones**"
      ],
      "metadata": {
        "id": "I7NN7zW1NNaH"
      }
    },
    {
      "cell_type": "markdown",
      "source": [
        "# Definir variables Black-Scholes, número de simulaciones Monte-Carlo\n"
      ],
      "metadata": {
        "id": "E568aSuY2QDB"
      }
    },
    {
      "cell_type": "code",
      "source": [
        "# Definir variables para Black-Scholes y Monte-Carlo. Inputs Interactivos.\n",
        "\n",
        "S = 69616.40 # Underlying Price\n",
        "\n",
        "K = 50000 # Strike Price\n",
        "\n",
        "t = 0\n",
        "\n",
        "T = 1 # Time to exp 1/12, 3/12, 6/12, 9/12\n",
        "\n",
        "r = 0.0453 # Interest rate\n",
        "\n",
        "vol = 0.55565 # Volatilidad\n",
        "\n",
        "monte_carlo_size = 10**6 # Numero de simulaciones Monte Carlo"
      ],
      "metadata": {
        "id": "Sc6KwXk_4_2a"
      },
      "execution_count": 170,
      "outputs": []
    },
    {
      "cell_type": "markdown",
      "source": [
        "# Calcular D1"
      ],
      "metadata": {
        "id": "UtJSH8qi4VZB"
      }
    },
    {
      "cell_type": "code",
      "source": [
        "d1 = (math.log(S/K) + (r + 0.5 * vol**2) * T ) / (vol * math.sqrt(T))"
      ],
      "metadata": {
        "id": "9-5n10mo4Oj4"
      },
      "execution_count": 171,
      "outputs": []
    },
    {
      "cell_type": "markdown",
      "source": [
        "# Calcular D2"
      ],
      "metadata": {
        "id": "Do9TbL4k4ape"
      }
    },
    {
      "cell_type": "code",
      "source": [
        "d2 = d1 - (vol * math.sqrt(T))"
      ],
      "metadata": {
        "id": "2s6eKThN4Ras"
      },
      "execution_count": 172,
      "outputs": []
    },
    {
      "cell_type": "markdown",
      "source": [
        "# Calcular Call Option Price"
      ],
      "metadata": {
        "id": "rAtvJ33v4ht_"
      }
    },
    {
      "cell_type": "code",
      "source": [
        "C = S * norm.cdf(d1) - K * math.exp(-r * T) *norm.cdf(d2)"
      ],
      "metadata": {
        "id": "IBPwOzAw4mKr"
      },
      "execution_count": 173,
      "outputs": []
    },
    {
      "cell_type": "markdown",
      "source": [
        "# Calcular Put Option Price"
      ],
      "metadata": {
        "id": "7cMVlt5R7uUM"
      }
    },
    {
      "cell_type": "code",
      "source": [
        "P = K * math.exp(-r * T) * norm.cdf(-d2) - S * norm.cdf(-d1)"
      ],
      "metadata": {
        "id": "ORGnO-tG7z0Q"
      },
      "execution_count": 174,
      "outputs": []
    },
    {
      "cell_type": "markdown",
      "source": [
        "#Monte-Carlo parámetros"
      ],
      "metadata": {
        "id": "6apI4jItH_w5"
      }
    },
    {
      "cell_type": "code",
      "source": [
        "N = np.random.standard_normal(10**6)"
      ],
      "metadata": {
        "id": "8jt21a2QNljY"
      },
      "execution_count": 175,
      "outputs": []
    },
    {
      "cell_type": "code",
      "source": [
        "price_underlying = S * np.exp((r - 0.5 * (vol**2)) * T + vol * np.sqrt(T) * N)"
      ],
      "metadata": {
        "id": "OT5WxCQSAGLD"
      },
      "execution_count": 176,
      "outputs": []
    },
    {
      "cell_type": "code",
      "source": [
        "monte_carlo_simulations = np.exp(-(r * T)) * np.array([max(S - K, 0.0) for S in price_underlying])\n"
      ],
      "metadata": {
        "id": "AuNE3Mr6C1QT"
      },
      "execution_count": 177,
      "outputs": []
    },
    {
      "cell_type": "code",
      "source": [
        "monte_carlo_price = np.mean(monte_carlo_simulations)"
      ],
      "metadata": {
        "id": "AUSlQ-P_DWRG"
      },
      "execution_count": 178,
      "outputs": []
    },
    {
      "cell_type": "code",
      "source": [
        "monte_carlo_confidence_interval = monte_carlo_price + np.array([-1, +1]) * 1.96 * np.std(monte_carlo_simulations) / np.sqrt(monte_carlo_size)"
      ],
      "metadata": {
        "id": "8ACaaM8-EcYI"
      },
      "execution_count": 179,
      "outputs": []
    },
    {
      "cell_type": "markdown",
      "source": [
        "#**Resultados:**"
      ],
      "metadata": {
        "id": "606yP9YH8Jw2"
      }
    },
    {
      "cell_type": "markdown",
      "source": [
        "# Black-Scholes Price"
      ],
      "metadata": {
        "id": "sgHaR2BsOKk7"
      }
    },
    {
      "cell_type": "code",
      "source": [
        "print('El valor de la opción call es $', round (C, 2))\n",
        "print('El valor de la opción put es $', round (P, 2))"
      ],
      "metadata": {
        "colab": {
          "base_uri": "https://localhost:8080/"
        },
        "id": "sOJkC84q8Me8",
        "outputId": "db5c0939-e3fd-4e5f-c6b3-c410f9b21c11"
      },
      "execution_count": 180,
      "outputs": [
        {
          "output_type": "stream",
          "name": "stdout",
          "text": [
            "El valor de la opción call es $ 26488.07\n",
            "El valor de la opción put es $ 4657.21\n"
          ]
        }
      ]
    },
    {
      "cell_type": "markdown",
      "source": [
        "# Monte Carlo Price"
      ],
      "metadata": {
        "id": "FxdPFm7MACxf"
      }
    },
    {
      "cell_type": "code",
      "source": [
        "print('El valor de la opción Monte-Carlo es $', round (monte_carlo_price,2))"
      ],
      "metadata": {
        "colab": {
          "base_uri": "https://localhost:8080/"
        },
        "id": "QYSOHlYKDjWo",
        "outputId": "981cdbed-4107-4c90-9085-3c9676ac0cac"
      },
      "execution_count": 182,
      "outputs": [
        {
          "output_type": "stream",
          "name": "stdout",
          "text": [
            "El valor de la opción Monte-Carlo es $ 26469.13\n"
          ]
        }
      ]
    },
    {
      "cell_type": "markdown",
      "source": [
        "# Intervalo de Confianza Monte-Carlo"
      ],
      "metadata": {
        "id": "lLqX_hv6Ec3O"
      }
    },
    {
      "cell_type": "code",
      "source": [
        "print('El intervalo de confianza Monte-Carlo es entre', (monte_carlo_confidence_interval))"
      ],
      "metadata": {
        "colab": {
          "base_uri": "https://localhost:8080/"
        },
        "id": "A7mfCNL2FDFX",
        "outputId": "a8cd16fd-63dd-4648-ba31-3b5968f5b27e"
      },
      "execution_count": 181,
      "outputs": [
        {
          "output_type": "stream",
          "name": "stdout",
          "text": [
            "El intervalo de confianza Monte-Carlo es entre [26394.80911401 26543.44709807]\n"
          ]
        }
      ]
    },
    {
      "cell_type": "markdown",
      "source": [
        "# Número de simulaciones"
      ],
      "metadata": {
        "id": "PgEAHgKvOtXI"
      }
    },
    {
      "cell_type": "code",
      "source": [
        "print('El número de simulaciones Monte-Carlo es ', (monte_carlo_size))"
      ],
      "metadata": {
        "colab": {
          "base_uri": "https://localhost:8080/"
        },
        "id": "uNh94DXPOaST",
        "outputId": "515b4c46-a2f2-4736-dbbd-73330032d437"
      },
      "execution_count": 183,
      "outputs": [
        {
          "output_type": "stream",
          "name": "stdout",
          "text": [
            "El número de simulaciones Monte-Carlo es  1000000\n"
          ]
        }
      ]
    }
  ]
}